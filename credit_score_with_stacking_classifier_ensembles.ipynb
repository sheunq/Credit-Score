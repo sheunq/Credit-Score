{
  "cells": [
    {
      "cell_type": "markdown",
      "metadata": {
        "id": "view-in-github",
        "colab_type": "text"
      },
      "source": [
        "<a href=\"https://colab.research.google.com/github/sheunq/Credit-Score/blob/main/credit_score_with_stacking_classifier_ensembles.ipynb\" target=\"_parent\"><img src=\"https://colab.research.google.com/assets/colab-badge.svg\" alt=\"Open In Colab\"/></a>"
      ]
    },
    {
      "cell_type": "markdown",
      "id": "2a5f26c3",
      "metadata": {
        "papermill": {
          "duration": 0.013004,
          "end_time": "2023-02-01T20:09:42.441635",
          "exception": false,
          "start_time": "2023-02-01T20:09:42.428631",
          "status": "completed"
        },
        "tags": [],
        "id": "2a5f26c3"
      },
      "source": [
        "## Problem Statement\n",
        "You are working as a data scientist in a global finance company. Over the years, the company has collected basic bank details and gathered a lot of credit-related information. The management wants to build an intelligent system to segregate the people into credit score brackets to reduce the manual efforts.\n",
        "## Task\n",
        "Given a person’s credit-related information, build a machine learning model that can classify the credit score."
      ]
    },
    {
      "cell_type": "code",
      "execution_count": 12,
      "id": "46b46c3a",
      "metadata": {
        "execution": {
          "iopub.execute_input": "2023-02-01T20:09:42.469238Z",
          "iopub.status.busy": "2023-02-01T20:09:42.468472Z",
          "iopub.status.idle": "2023-02-01T20:09:45.239309Z",
          "shell.execute_reply": "2023-02-01T20:09:45.238313Z"
        },
        "papermill": {
          "duration": 2.789075,
          "end_time": "2023-02-01T20:09:45.242439",
          "exception": false,
          "start_time": "2023-02-01T20:09:42.453364",
          "status": "completed"
        },
        "tags": [],
        "id": "46b46c3a"
      },
      "outputs": [],
      "source": [
        "import sys\n",
        "assert sys.version_info>=(3,7)\n",
        "\n",
        "import pandas as pd\n",
        "import numpy as np\n",
        "import plotly.express as px\n",
        "\n",
        "from sklearn.model_selection import train_test_split\n",
        "from sklearn.preprocessing import PowerTransformer\n",
        "from imblearn.over_sampling import SMOTE\n",
        "import re\n",
        "\n",
        "from sklearn.neighbors import LocalOutlierFactor\n",
        "from sklearn.impute import SimpleImputer\n",
        "from sklearn.ensemble import (\n",
        "BaggingClassifier,ExtraTreesClassifier,\n",
        "RandomForestClassifier, StackingClassifier,\n",
        "HistGradientBoostingClassifier)\n",
        "from xgboost import XGBClassifier\n",
        "from sklearn.metrics import classification_report,accuracy_score,confusion_matrix, precision_score,recall_score,f1_score \n",
        "\n",
        "import pickle\n",
        "import warnings\n",
        "warnings.filterwarnings('ignore')"
      ]
    },
    {
      "cell_type": "code",
      "source": [
        "from google.colab import drive\n",
        "drive.mount('/content/drive')"
      ],
      "metadata": {
        "colab": {
          "base_uri": "https://localhost:8080/"
        },
        "id": "cqXOa81wQzuG",
        "outputId": "abecdb8d-5396-4380-c73a-4c931ee505ab"
      },
      "id": "cqXOa81wQzuG",
      "execution_count": 6,
      "outputs": [
        {
          "output_type": "stream",
          "name": "stdout",
          "text": [
            "Drive already mounted at /content/drive; to attempt to forcibly remount, call drive.mount(\"/content/drive\", force_remount=True).\n"
          ]
        }
      ]
    },
    {
      "cell_type": "code",
      "execution_count": 7,
      "id": "d6f092f3",
      "metadata": {
        "execution": {
          "iopub.execute_input": "2023-02-01T20:09:45.268996Z",
          "iopub.status.busy": "2023-02-01T20:09:45.268525Z",
          "iopub.status.idle": "2023-02-01T20:09:46.211799Z",
          "shell.execute_reply": "2023-02-01T20:09:46.210661Z"
        },
        "papermill": {
          "duration": 0.959576,
          "end_time": "2023-02-01T20:09:46.213891",
          "exception": false,
          "start_time": "2023-02-01T20:09:45.254315",
          "status": "completed"
        },
        "tags": [],
        "colab": {
          "base_uri": "https://localhost:8080/",
          "height": 526
        },
        "id": "d6f092f3",
        "outputId": "4de5aa3c-5ae3-4221-ec9f-f12d2cad520b"
      },
      "outputs": [
        {
          "output_type": "execute_result",
          "data": {
            "text/plain": [
              "           ID  Customer_ID  Month                   Name   Age          SSN  \\\n",
              "91243  142497        44713      4       Ryan Vlastelicaa  14.0  964343476.0   \n",
              "83942  131544        19730      7           Sarah Whitel  37.0  176952803.0   \n",
              "85032  133182         3150      1     Gianluca Semeraror  39.0  109270987.0   \n",
              "99120  154314        19913      1              Sagarikat  38.0   11555907.0   \n",
              "79756  125266         2719      5     Aditi Shrivastavaz  19.0  601743826.0   \n",
              "51726   83220        13882      7           Lucy Hornbyx  26.0  140539808.0   \n",
              "34470   57336        18328      7               Prodhane  36.0  265884094.0   \n",
              "41171   67389        29286      4  George Georgiopoulosb  23.0   63498444.0   \n",
              "19535   34933        24126      8               OGrady\"z  31.0  956171632.0   \n",
              "70925  112019        26704      6          Stephen Greyu  28.0  646894326.0   \n",
              "\n",
              "       Occupation  Annual_Income  Monthly_Inhand_Salary  Num_Bank_Accounts  \\\n",
              "91243    Engineer       16236.13            1142.010833                7.0   \n",
              "83942    Mechanic      129762.48           10974.540000                0.0   \n",
              "85032      Writer       17213.61            1350.467500                9.0   \n",
              "99120      Doctor       47689.47            3787.122500                9.0   \n",
              "79756     Teacher       72690.14            6129.511667                4.0   \n",
              "51726    Musician       54539.52            4540.960000                8.0   \n",
              "34470  Accountant       43287.28            3839.273333                7.0   \n",
              "41171     Teacher       46422.10            4085.508333                8.0   \n",
              "19535   Architect       29020.27            2456.355833                2.0   \n",
              "70925   Scientist       46174.58            3652.881667                8.0   \n",
              "\n",
              "       ...  Credit_Mix  Outstanding_Debt  Credit_Utilization_Ratio  \\\n",
              "91243  ...         Bad           3300.77                 24.421816   \n",
              "83942  ...        Good           1073.62                 26.040280   \n",
              "85032  ...         Bad           2818.55                 40.118424   \n",
              "99120  ...         Bad           4675.57                 32.208922   \n",
              "79756  ...    Standard             37.07                 38.177604   \n",
              "51726  ...         Bad           4779.68                 24.775902   \n",
              "34470  ...    Standard           1393.19                 38.760461   \n",
              "41171  ...    Standard            832.68                 38.088849   \n",
              "19535  ...        Good            536.36                 24.603357   \n",
              "70925  ...        Good           1268.49                 33.229001   \n",
              "\n",
              "      Credit_History_Age  Payment_of_Min_Amount  Total_EMI_per_month  \\\n",
              "91243              163.0                    Yes            66.560642   \n",
              "83942              397.0                     No             0.000000   \n",
              "85032               10.0                    Yes            70.428792   \n",
              "99120              129.0                    Yes           194.627520   \n",
              "79756              374.0                    Yes           235.229676   \n",
              "51726               79.0                    Yes           189.919502   \n",
              "34470              369.0                    Yes           111.362146   \n",
              "41171              278.0                     No            66.490890   \n",
              "19535              384.0                     No            12.127443   \n",
              "70925              258.0                     NM            99.836244   \n",
              "\n",
              "       Amount_invested_monthly                 Payment_Behaviour  \\\n",
              "91243                27.370787    Low_spent_Small_value_payments   \n",
              "83942               107.385452   High_spent_Large_value_payments   \n",
              "85032                39.755165    Low_spent_Small_value_payments   \n",
              "99120                44.294517   High_spent_Small_value_payments   \n",
              "79756               105.520054  High_spent_Medium_value_payments   \n",
              "51726                59.454051  High_spent_Medium_value_payments   \n",
              "34470                33.131130   High_spent_Large_value_payments   \n",
              "41171                40.434932   Low_spent_Medium_value_payments   \n",
              "19535                73.008389    Low_spent_Small_value_payments   \n",
              "70925                48.926132    Low_spent_Large_value_payments   \n",
              "\n",
              "      Monthly_Balance  Credit_Score  \n",
              "91243      213.932182      Standard  \n",
              "83942      298.951023          Good  \n",
              "85032      172.340863      Standard  \n",
              "99120      329.478254      Standard  \n",
              "79756      392.866193      Standard  \n",
              "51726      229.365482          Poor  \n",
              "34470      479.434056      Standard  \n",
              "41171      387.128860      Standard  \n",
              "19535      349.114224          Poor  \n",
              "70925      362.402346      Standard  \n",
              "\n",
              "[10 rows x 28 columns]"
            ],
            "text/html": [
              "\n",
              "  <div id=\"df-02074f04-96b1-41a1-9748-665a10762b8e\">\n",
              "    <div class=\"colab-df-container\">\n",
              "      <div>\n",
              "<style scoped>\n",
              "    .dataframe tbody tr th:only-of-type {\n",
              "        vertical-align: middle;\n",
              "    }\n",
              "\n",
              "    .dataframe tbody tr th {\n",
              "        vertical-align: top;\n",
              "    }\n",
              "\n",
              "    .dataframe thead th {\n",
              "        text-align: right;\n",
              "    }\n",
              "</style>\n",
              "<table border=\"1\" class=\"dataframe\">\n",
              "  <thead>\n",
              "    <tr style=\"text-align: right;\">\n",
              "      <th></th>\n",
              "      <th>ID</th>\n",
              "      <th>Customer_ID</th>\n",
              "      <th>Month</th>\n",
              "      <th>Name</th>\n",
              "      <th>Age</th>\n",
              "      <th>SSN</th>\n",
              "      <th>Occupation</th>\n",
              "      <th>Annual_Income</th>\n",
              "      <th>Monthly_Inhand_Salary</th>\n",
              "      <th>Num_Bank_Accounts</th>\n",
              "      <th>...</th>\n",
              "      <th>Credit_Mix</th>\n",
              "      <th>Outstanding_Debt</th>\n",
              "      <th>Credit_Utilization_Ratio</th>\n",
              "      <th>Credit_History_Age</th>\n",
              "      <th>Payment_of_Min_Amount</th>\n",
              "      <th>Total_EMI_per_month</th>\n",
              "      <th>Amount_invested_monthly</th>\n",
              "      <th>Payment_Behaviour</th>\n",
              "      <th>Monthly_Balance</th>\n",
              "      <th>Credit_Score</th>\n",
              "    </tr>\n",
              "  </thead>\n",
              "  <tbody>\n",
              "    <tr>\n",
              "      <th>91243</th>\n",
              "      <td>142497</td>\n",
              "      <td>44713</td>\n",
              "      <td>4</td>\n",
              "      <td>Ryan Vlastelicaa</td>\n",
              "      <td>14.0</td>\n",
              "      <td>964343476.0</td>\n",
              "      <td>Engineer</td>\n",
              "      <td>16236.13</td>\n",
              "      <td>1142.010833</td>\n",
              "      <td>7.0</td>\n",
              "      <td>...</td>\n",
              "      <td>Bad</td>\n",
              "      <td>3300.77</td>\n",
              "      <td>24.421816</td>\n",
              "      <td>163.0</td>\n",
              "      <td>Yes</td>\n",
              "      <td>66.560642</td>\n",
              "      <td>27.370787</td>\n",
              "      <td>Low_spent_Small_value_payments</td>\n",
              "      <td>213.932182</td>\n",
              "      <td>Standard</td>\n",
              "    </tr>\n",
              "    <tr>\n",
              "      <th>83942</th>\n",
              "      <td>131544</td>\n",
              "      <td>19730</td>\n",
              "      <td>7</td>\n",
              "      <td>Sarah Whitel</td>\n",
              "      <td>37.0</td>\n",
              "      <td>176952803.0</td>\n",
              "      <td>Mechanic</td>\n",
              "      <td>129762.48</td>\n",
              "      <td>10974.540000</td>\n",
              "      <td>0.0</td>\n",
              "      <td>...</td>\n",
              "      <td>Good</td>\n",
              "      <td>1073.62</td>\n",
              "      <td>26.040280</td>\n",
              "      <td>397.0</td>\n",
              "      <td>No</td>\n",
              "      <td>0.000000</td>\n",
              "      <td>107.385452</td>\n",
              "      <td>High_spent_Large_value_payments</td>\n",
              "      <td>298.951023</td>\n",
              "      <td>Good</td>\n",
              "    </tr>\n",
              "    <tr>\n",
              "      <th>85032</th>\n",
              "      <td>133182</td>\n",
              "      <td>3150</td>\n",
              "      <td>1</td>\n",
              "      <td>Gianluca Semeraror</td>\n",
              "      <td>39.0</td>\n",
              "      <td>109270987.0</td>\n",
              "      <td>Writer</td>\n",
              "      <td>17213.61</td>\n",
              "      <td>1350.467500</td>\n",
              "      <td>9.0</td>\n",
              "      <td>...</td>\n",
              "      <td>Bad</td>\n",
              "      <td>2818.55</td>\n",
              "      <td>40.118424</td>\n",
              "      <td>10.0</td>\n",
              "      <td>Yes</td>\n",
              "      <td>70.428792</td>\n",
              "      <td>39.755165</td>\n",
              "      <td>Low_spent_Small_value_payments</td>\n",
              "      <td>172.340863</td>\n",
              "      <td>Standard</td>\n",
              "    </tr>\n",
              "    <tr>\n",
              "      <th>99120</th>\n",
              "      <td>154314</td>\n",
              "      <td>19913</td>\n",
              "      <td>1</td>\n",
              "      <td>Sagarikat</td>\n",
              "      <td>38.0</td>\n",
              "      <td>11555907.0</td>\n",
              "      <td>Doctor</td>\n",
              "      <td>47689.47</td>\n",
              "      <td>3787.122500</td>\n",
              "      <td>9.0</td>\n",
              "      <td>...</td>\n",
              "      <td>Bad</td>\n",
              "      <td>4675.57</td>\n",
              "      <td>32.208922</td>\n",
              "      <td>129.0</td>\n",
              "      <td>Yes</td>\n",
              "      <td>194.627520</td>\n",
              "      <td>44.294517</td>\n",
              "      <td>High_spent_Small_value_payments</td>\n",
              "      <td>329.478254</td>\n",
              "      <td>Standard</td>\n",
              "    </tr>\n",
              "    <tr>\n",
              "      <th>79756</th>\n",
              "      <td>125266</td>\n",
              "      <td>2719</td>\n",
              "      <td>5</td>\n",
              "      <td>Aditi Shrivastavaz</td>\n",
              "      <td>19.0</td>\n",
              "      <td>601743826.0</td>\n",
              "      <td>Teacher</td>\n",
              "      <td>72690.14</td>\n",
              "      <td>6129.511667</td>\n",
              "      <td>4.0</td>\n",
              "      <td>...</td>\n",
              "      <td>Standard</td>\n",
              "      <td>37.07</td>\n",
              "      <td>38.177604</td>\n",
              "      <td>374.0</td>\n",
              "      <td>Yes</td>\n",
              "      <td>235.229676</td>\n",
              "      <td>105.520054</td>\n",
              "      <td>High_spent_Medium_value_payments</td>\n",
              "      <td>392.866193</td>\n",
              "      <td>Standard</td>\n",
              "    </tr>\n",
              "    <tr>\n",
              "      <th>51726</th>\n",
              "      <td>83220</td>\n",
              "      <td>13882</td>\n",
              "      <td>7</td>\n",
              "      <td>Lucy Hornbyx</td>\n",
              "      <td>26.0</td>\n",
              "      <td>140539808.0</td>\n",
              "      <td>Musician</td>\n",
              "      <td>54539.52</td>\n",
              "      <td>4540.960000</td>\n",
              "      <td>8.0</td>\n",
              "      <td>...</td>\n",
              "      <td>Bad</td>\n",
              "      <td>4779.68</td>\n",
              "      <td>24.775902</td>\n",
              "      <td>79.0</td>\n",
              "      <td>Yes</td>\n",
              "      <td>189.919502</td>\n",
              "      <td>59.454051</td>\n",
              "      <td>High_spent_Medium_value_payments</td>\n",
              "      <td>229.365482</td>\n",
              "      <td>Poor</td>\n",
              "    </tr>\n",
              "    <tr>\n",
              "      <th>34470</th>\n",
              "      <td>57336</td>\n",
              "      <td>18328</td>\n",
              "      <td>7</td>\n",
              "      <td>Prodhane</td>\n",
              "      <td>36.0</td>\n",
              "      <td>265884094.0</td>\n",
              "      <td>Accountant</td>\n",
              "      <td>43287.28</td>\n",
              "      <td>3839.273333</td>\n",
              "      <td>7.0</td>\n",
              "      <td>...</td>\n",
              "      <td>Standard</td>\n",
              "      <td>1393.19</td>\n",
              "      <td>38.760461</td>\n",
              "      <td>369.0</td>\n",
              "      <td>Yes</td>\n",
              "      <td>111.362146</td>\n",
              "      <td>33.131130</td>\n",
              "      <td>High_spent_Large_value_payments</td>\n",
              "      <td>479.434056</td>\n",
              "      <td>Standard</td>\n",
              "    </tr>\n",
              "    <tr>\n",
              "      <th>41171</th>\n",
              "      <td>67389</td>\n",
              "      <td>29286</td>\n",
              "      <td>4</td>\n",
              "      <td>George Georgiopoulosb</td>\n",
              "      <td>23.0</td>\n",
              "      <td>63498444.0</td>\n",
              "      <td>Teacher</td>\n",
              "      <td>46422.10</td>\n",
              "      <td>4085.508333</td>\n",
              "      <td>8.0</td>\n",
              "      <td>...</td>\n",
              "      <td>Standard</td>\n",
              "      <td>832.68</td>\n",
              "      <td>38.088849</td>\n",
              "      <td>278.0</td>\n",
              "      <td>No</td>\n",
              "      <td>66.490890</td>\n",
              "      <td>40.434932</td>\n",
              "      <td>Low_spent_Medium_value_payments</td>\n",
              "      <td>387.128860</td>\n",
              "      <td>Standard</td>\n",
              "    </tr>\n",
              "    <tr>\n",
              "      <th>19535</th>\n",
              "      <td>34933</td>\n",
              "      <td>24126</td>\n",
              "      <td>8</td>\n",
              "      <td>OGrady\"z</td>\n",
              "      <td>31.0</td>\n",
              "      <td>956171632.0</td>\n",
              "      <td>Architect</td>\n",
              "      <td>29020.27</td>\n",
              "      <td>2456.355833</td>\n",
              "      <td>2.0</td>\n",
              "      <td>...</td>\n",
              "      <td>Good</td>\n",
              "      <td>536.36</td>\n",
              "      <td>24.603357</td>\n",
              "      <td>384.0</td>\n",
              "      <td>No</td>\n",
              "      <td>12.127443</td>\n",
              "      <td>73.008389</td>\n",
              "      <td>Low_spent_Small_value_payments</td>\n",
              "      <td>349.114224</td>\n",
              "      <td>Poor</td>\n",
              "    </tr>\n",
              "    <tr>\n",
              "      <th>70925</th>\n",
              "      <td>112019</td>\n",
              "      <td>26704</td>\n",
              "      <td>6</td>\n",
              "      <td>Stephen Greyu</td>\n",
              "      <td>28.0</td>\n",
              "      <td>646894326.0</td>\n",
              "      <td>Scientist</td>\n",
              "      <td>46174.58</td>\n",
              "      <td>3652.881667</td>\n",
              "      <td>8.0</td>\n",
              "      <td>...</td>\n",
              "      <td>Good</td>\n",
              "      <td>1268.49</td>\n",
              "      <td>33.229001</td>\n",
              "      <td>258.0</td>\n",
              "      <td>NM</td>\n",
              "      <td>99.836244</td>\n",
              "      <td>48.926132</td>\n",
              "      <td>Low_spent_Large_value_payments</td>\n",
              "      <td>362.402346</td>\n",
              "      <td>Standard</td>\n",
              "    </tr>\n",
              "  </tbody>\n",
              "</table>\n",
              "<p>10 rows × 28 columns</p>\n",
              "</div>\n",
              "      <button class=\"colab-df-convert\" onclick=\"convertToInteractive('df-02074f04-96b1-41a1-9748-665a10762b8e')\"\n",
              "              title=\"Convert this dataframe to an interactive table.\"\n",
              "              style=\"display:none;\">\n",
              "        \n",
              "  <svg xmlns=\"http://www.w3.org/2000/svg\" height=\"24px\"viewBox=\"0 0 24 24\"\n",
              "       width=\"24px\">\n",
              "    <path d=\"M0 0h24v24H0V0z\" fill=\"none\"/>\n",
              "    <path d=\"M18.56 5.44l.94 2.06.94-2.06 2.06-.94-2.06-.94-.94-2.06-.94 2.06-2.06.94zm-11 1L8.5 8.5l.94-2.06 2.06-.94-2.06-.94L8.5 2.5l-.94 2.06-2.06.94zm10 10l.94 2.06.94-2.06 2.06-.94-2.06-.94-.94-2.06-.94 2.06-2.06.94z\"/><path d=\"M17.41 7.96l-1.37-1.37c-.4-.4-.92-.59-1.43-.59-.52 0-1.04.2-1.43.59L10.3 9.45l-7.72 7.72c-.78.78-.78 2.05 0 2.83L4 21.41c.39.39.9.59 1.41.59.51 0 1.02-.2 1.41-.59l7.78-7.78 2.81-2.81c.8-.78.8-2.07 0-2.86zM5.41 20L4 18.59l7.72-7.72 1.47 1.35L5.41 20z\"/>\n",
              "  </svg>\n",
              "      </button>\n",
              "      \n",
              "  <style>\n",
              "    .colab-df-container {\n",
              "      display:flex;\n",
              "      flex-wrap:wrap;\n",
              "      gap: 12px;\n",
              "    }\n",
              "\n",
              "    .colab-df-convert {\n",
              "      background-color: #E8F0FE;\n",
              "      border: none;\n",
              "      border-radius: 50%;\n",
              "      cursor: pointer;\n",
              "      display: none;\n",
              "      fill: #1967D2;\n",
              "      height: 32px;\n",
              "      padding: 0 0 0 0;\n",
              "      width: 32px;\n",
              "    }\n",
              "\n",
              "    .colab-df-convert:hover {\n",
              "      background-color: #E2EBFA;\n",
              "      box-shadow: 0px 1px 2px rgba(60, 64, 67, 0.3), 0px 1px 3px 1px rgba(60, 64, 67, 0.15);\n",
              "      fill: #174EA6;\n",
              "    }\n",
              "\n",
              "    [theme=dark] .colab-df-convert {\n",
              "      background-color: #3B4455;\n",
              "      fill: #D2E3FC;\n",
              "    }\n",
              "\n",
              "    [theme=dark] .colab-df-convert:hover {\n",
              "      background-color: #434B5C;\n",
              "      box-shadow: 0px 1px 3px 1px rgba(0, 0, 0, 0.15);\n",
              "      filter: drop-shadow(0px 1px 2px rgba(0, 0, 0, 0.3));\n",
              "      fill: #FFFFFF;\n",
              "    }\n",
              "  </style>\n",
              "\n",
              "      <script>\n",
              "        const buttonEl =\n",
              "          document.querySelector('#df-02074f04-96b1-41a1-9748-665a10762b8e button.colab-df-convert');\n",
              "        buttonEl.style.display =\n",
              "          google.colab.kernel.accessAllowed ? 'block' : 'none';\n",
              "\n",
              "        async function convertToInteractive(key) {\n",
              "          const element = document.querySelector('#df-02074f04-96b1-41a1-9748-665a10762b8e');\n",
              "          const dataTable =\n",
              "            await google.colab.kernel.invokeFunction('convertToInteractive',\n",
              "                                                     [key], {});\n",
              "          if (!dataTable) return;\n",
              "\n",
              "          const docLinkHtml = 'Like what you see? Visit the ' +\n",
              "            '<a target=\"_blank\" href=https://colab.research.google.com/notebooks/data_table.ipynb>data table notebook</a>'\n",
              "            + ' to learn more about interactive tables.';\n",
              "          element.innerHTML = '';\n",
              "          dataTable['output_type'] = 'display_data';\n",
              "          await google.colab.output.renderOutput(dataTable, element);\n",
              "          const docLink = document.createElement('div');\n",
              "          docLink.innerHTML = docLinkHtml;\n",
              "          element.appendChild(docLink);\n",
              "        }\n",
              "      </script>\n",
              "    </div>\n",
              "  </div>\n",
              "  "
            ]
          },
          "metadata": {},
          "execution_count": 7
        }
      ],
      "source": [
        "data=pd.read_csv('/content/drive/MyDrive/Colab Notebooks/Credit score.csv')\n",
        "data.sample(10)"
      ]
    },
    {
      "cell_type": "code",
      "execution_count": 8,
      "id": "e618fa10",
      "metadata": {
        "execution": {
          "iopub.execute_input": "2023-02-01T20:09:46.239551Z",
          "iopub.status.busy": "2023-02-01T20:09:46.238903Z",
          "iopub.status.idle": "2023-02-01T20:09:46.652669Z",
          "shell.execute_reply": "2023-02-01T20:09:46.651273Z"
        },
        "papermill": {
          "duration": 0.429043,
          "end_time": "2023-02-01T20:09:46.654843",
          "exception": false,
          "start_time": "2023-02-01T20:09:46.225800",
          "status": "completed"
        },
        "tags": [],
        "colab": {
          "base_uri": "https://localhost:8080/",
          "height": 488
        },
        "id": "e618fa10",
        "outputId": "0888d59d-a497-4678-efec-176f5cb76bba"
      },
      "outputs": [
        {
          "output_type": "execute_result",
          "data": {
            "text/plain": [
              "                   ID    Customer_ID          Month      Name            Age  \\\n",
              "count   100000.000000  100000.000000  100000.000000    100000  100000.000000   \n",
              "unique            NaN            NaN            NaN     10128            NaN   \n",
              "top               NaN            NaN            NaN  Jessicad            NaN   \n",
              "freq              NaN            NaN            NaN        48            NaN   \n",
              "mean     80631.500000   25982.666640       4.500000       NaN      33.316340   \n",
              "std      43301.486619   14340.543051       2.291299       NaN      10.764812   \n",
              "min       5634.000000    1006.000000       1.000000       NaN      14.000000   \n",
              "25%      43132.750000   13664.500000       2.750000       NaN      24.000000   \n",
              "50%      80631.500000   25777.000000       4.500000       NaN      33.000000   \n",
              "75%     118130.250000   38385.000000       6.250000       NaN      42.000000   \n",
              "max     155629.000000   50999.000000       8.000000       NaN      56.000000   \n",
              "\n",
              "                 SSN Occupation  Annual_Income  Monthly_Inhand_Salary  \\\n",
              "count   1.000000e+05     100000  100000.000000          100000.000000   \n",
              "unique           NaN         15            NaN                    NaN   \n",
              "top              NaN     Lawyer            NaN                    NaN   \n",
              "freq             NaN       7096            NaN                    NaN   \n",
              "mean    5.004617e+08        NaN   50505.123449            4197.270835   \n",
              "std     2.908267e+08        NaN   38299.422093            3186.432497   \n",
              "min     8.134900e+04        NaN    7005.930000             303.645417   \n",
              "25%     2.451686e+08        NaN   19342.972500            1626.594167   \n",
              "50%     5.006886e+08        NaN   36999.705000            3095.905000   \n",
              "75%     7.560027e+08        NaN   71683.470000            5957.715000   \n",
              "max     9.999934e+08        NaN  179987.280000           15204.633333   \n",
              "\n",
              "        Num_Bank_Accounts  ...  Credit_Mix  Outstanding_Debt  \\\n",
              "count       100000.000000  ...      100000     100000.000000   \n",
              "unique                NaN  ...           3               NaN   \n",
              "top                   NaN  ...    Standard               NaN   \n",
              "freq                  NaN  ...       45848               NaN   \n",
              "mean             5.368820  ...         NaN       1426.220376   \n",
              "std              2.593314  ...         NaN       1155.129026   \n",
              "min              0.000000  ...         NaN          0.230000   \n",
              "25%              3.000000  ...         NaN        566.072500   \n",
              "50%              5.000000  ...         NaN       1166.155000   \n",
              "75%              7.000000  ...         NaN       1945.962500   \n",
              "max             11.000000  ...         NaN       4998.070000   \n",
              "\n",
              "        Credit_Utilization_Ratio Credit_History_Age  Payment_of_Min_Amount  \\\n",
              "count              100000.000000      100000.000000                 100000   \n",
              "unique                       NaN                NaN                      3   \n",
              "top                          NaN                NaN                    Yes   \n",
              "freq                         NaN                NaN                  52326   \n",
              "mean                   32.285173         221.220460                    NaN   \n",
              "std                     5.116875          99.680716                    NaN   \n",
              "min                    20.000000           1.000000                    NaN   \n",
              "25%                    28.052567         144.000000                    NaN   \n",
              "50%                    32.305784         219.000000                    NaN   \n",
              "75%                    36.496663         302.000000                    NaN   \n",
              "max                    50.000000         404.000000                    NaN   \n",
              "\n",
              "        Total_EMI_per_month  Amount_invested_monthly  \\\n",
              "count         100000.000000            100000.000000   \n",
              "unique                  NaN                      NaN   \n",
              "top                     NaN                      NaN   \n",
              "freq                    NaN                      NaN   \n",
              "mean             107.699208                55.101315   \n",
              "std              132.267056                39.006932   \n",
              "min                0.000000                 0.000000   \n",
              "25%               29.268886                27.959111   \n",
              "50%               66.462304                45.156550   \n",
              "75%              147.392573                71.295797   \n",
              "max             1779.103254               434.191089   \n",
              "\n",
              "                     Payment_Behaviour Monthly_Balance  Credit_Score  \n",
              "count                           100000   100000.000000        100000  \n",
              "unique                               6             NaN             3  \n",
              "top     Low_spent_Small_value_payments             NaN      Standard  \n",
              "freq                             28616             NaN         53174  \n",
              "mean                               NaN      392.697586           NaN  \n",
              "std                                NaN      201.652719           NaN  \n",
              "min                                NaN        0.007760           NaN  \n",
              "25%                                NaN      267.615983           NaN  \n",
              "50%                                NaN      333.865366           NaN  \n",
              "75%                                NaN      463.215683           NaN  \n",
              "max                                NaN     1183.930696           NaN  \n",
              "\n",
              "[11 rows x 28 columns]"
            ],
            "text/html": [
              "\n",
              "  <div id=\"df-1838f14b-828e-4c32-81a1-953d428272d6\">\n",
              "    <div class=\"colab-df-container\">\n",
              "      <div>\n",
              "<style scoped>\n",
              "    .dataframe tbody tr th:only-of-type {\n",
              "        vertical-align: middle;\n",
              "    }\n",
              "\n",
              "    .dataframe tbody tr th {\n",
              "        vertical-align: top;\n",
              "    }\n",
              "\n",
              "    .dataframe thead th {\n",
              "        text-align: right;\n",
              "    }\n",
              "</style>\n",
              "<table border=\"1\" class=\"dataframe\">\n",
              "  <thead>\n",
              "    <tr style=\"text-align: right;\">\n",
              "      <th></th>\n",
              "      <th>ID</th>\n",
              "      <th>Customer_ID</th>\n",
              "      <th>Month</th>\n",
              "      <th>Name</th>\n",
              "      <th>Age</th>\n",
              "      <th>SSN</th>\n",
              "      <th>Occupation</th>\n",
              "      <th>Annual_Income</th>\n",
              "      <th>Monthly_Inhand_Salary</th>\n",
              "      <th>Num_Bank_Accounts</th>\n",
              "      <th>...</th>\n",
              "      <th>Credit_Mix</th>\n",
              "      <th>Outstanding_Debt</th>\n",
              "      <th>Credit_Utilization_Ratio</th>\n",
              "      <th>Credit_History_Age</th>\n",
              "      <th>Payment_of_Min_Amount</th>\n",
              "      <th>Total_EMI_per_month</th>\n",
              "      <th>Amount_invested_monthly</th>\n",
              "      <th>Payment_Behaviour</th>\n",
              "      <th>Monthly_Balance</th>\n",
              "      <th>Credit_Score</th>\n",
              "    </tr>\n",
              "  </thead>\n",
              "  <tbody>\n",
              "    <tr>\n",
              "      <th>count</th>\n",
              "      <td>100000.000000</td>\n",
              "      <td>100000.000000</td>\n",
              "      <td>100000.000000</td>\n",
              "      <td>100000</td>\n",
              "      <td>100000.000000</td>\n",
              "      <td>1.000000e+05</td>\n",
              "      <td>100000</td>\n",
              "      <td>100000.000000</td>\n",
              "      <td>100000.000000</td>\n",
              "      <td>100000.000000</td>\n",
              "      <td>...</td>\n",
              "      <td>100000</td>\n",
              "      <td>100000.000000</td>\n",
              "      <td>100000.000000</td>\n",
              "      <td>100000.000000</td>\n",
              "      <td>100000</td>\n",
              "      <td>100000.000000</td>\n",
              "      <td>100000.000000</td>\n",
              "      <td>100000</td>\n",
              "      <td>100000.000000</td>\n",
              "      <td>100000</td>\n",
              "    </tr>\n",
              "    <tr>\n",
              "      <th>unique</th>\n",
              "      <td>NaN</td>\n",
              "      <td>NaN</td>\n",
              "      <td>NaN</td>\n",
              "      <td>10128</td>\n",
              "      <td>NaN</td>\n",
              "      <td>NaN</td>\n",
              "      <td>15</td>\n",
              "      <td>NaN</td>\n",
              "      <td>NaN</td>\n",
              "      <td>NaN</td>\n",
              "      <td>...</td>\n",
              "      <td>3</td>\n",
              "      <td>NaN</td>\n",
              "      <td>NaN</td>\n",
              "      <td>NaN</td>\n",
              "      <td>3</td>\n",
              "      <td>NaN</td>\n",
              "      <td>NaN</td>\n",
              "      <td>6</td>\n",
              "      <td>NaN</td>\n",
              "      <td>3</td>\n",
              "    </tr>\n",
              "    <tr>\n",
              "      <th>top</th>\n",
              "      <td>NaN</td>\n",
              "      <td>NaN</td>\n",
              "      <td>NaN</td>\n",
              "      <td>Jessicad</td>\n",
              "      <td>NaN</td>\n",
              "      <td>NaN</td>\n",
              "      <td>Lawyer</td>\n",
              "      <td>NaN</td>\n",
              "      <td>NaN</td>\n",
              "      <td>NaN</td>\n",
              "      <td>...</td>\n",
              "      <td>Standard</td>\n",
              "      <td>NaN</td>\n",
              "      <td>NaN</td>\n",
              "      <td>NaN</td>\n",
              "      <td>Yes</td>\n",
              "      <td>NaN</td>\n",
              "      <td>NaN</td>\n",
              "      <td>Low_spent_Small_value_payments</td>\n",
              "      <td>NaN</td>\n",
              "      <td>Standard</td>\n",
              "    </tr>\n",
              "    <tr>\n",
              "      <th>freq</th>\n",
              "      <td>NaN</td>\n",
              "      <td>NaN</td>\n",
              "      <td>NaN</td>\n",
              "      <td>48</td>\n",
              "      <td>NaN</td>\n",
              "      <td>NaN</td>\n",
              "      <td>7096</td>\n",
              "      <td>NaN</td>\n",
              "      <td>NaN</td>\n",
              "      <td>NaN</td>\n",
              "      <td>...</td>\n",
              "      <td>45848</td>\n",
              "      <td>NaN</td>\n",
              "      <td>NaN</td>\n",
              "      <td>NaN</td>\n",
              "      <td>52326</td>\n",
              "      <td>NaN</td>\n",
              "      <td>NaN</td>\n",
              "      <td>28616</td>\n",
              "      <td>NaN</td>\n",
              "      <td>53174</td>\n",
              "    </tr>\n",
              "    <tr>\n",
              "      <th>mean</th>\n",
              "      <td>80631.500000</td>\n",
              "      <td>25982.666640</td>\n",
              "      <td>4.500000</td>\n",
              "      <td>NaN</td>\n",
              "      <td>33.316340</td>\n",
              "      <td>5.004617e+08</td>\n",
              "      <td>NaN</td>\n",
              "      <td>50505.123449</td>\n",
              "      <td>4197.270835</td>\n",
              "      <td>5.368820</td>\n",
              "      <td>...</td>\n",
              "      <td>NaN</td>\n",
              "      <td>1426.220376</td>\n",
              "      <td>32.285173</td>\n",
              "      <td>221.220460</td>\n",
              "      <td>NaN</td>\n",
              "      <td>107.699208</td>\n",
              "      <td>55.101315</td>\n",
              "      <td>NaN</td>\n",
              "      <td>392.697586</td>\n",
              "      <td>NaN</td>\n",
              "    </tr>\n",
              "    <tr>\n",
              "      <th>std</th>\n",
              "      <td>43301.486619</td>\n",
              "      <td>14340.543051</td>\n",
              "      <td>2.291299</td>\n",
              "      <td>NaN</td>\n",
              "      <td>10.764812</td>\n",
              "      <td>2.908267e+08</td>\n",
              "      <td>NaN</td>\n",
              "      <td>38299.422093</td>\n",
              "      <td>3186.432497</td>\n",
              "      <td>2.593314</td>\n",
              "      <td>...</td>\n",
              "      <td>NaN</td>\n",
              "      <td>1155.129026</td>\n",
              "      <td>5.116875</td>\n",
              "      <td>99.680716</td>\n",
              "      <td>NaN</td>\n",
              "      <td>132.267056</td>\n",
              "      <td>39.006932</td>\n",
              "      <td>NaN</td>\n",
              "      <td>201.652719</td>\n",
              "      <td>NaN</td>\n",
              "    </tr>\n",
              "    <tr>\n",
              "      <th>min</th>\n",
              "      <td>5634.000000</td>\n",
              "      <td>1006.000000</td>\n",
              "      <td>1.000000</td>\n",
              "      <td>NaN</td>\n",
              "      <td>14.000000</td>\n",
              "      <td>8.134900e+04</td>\n",
              "      <td>NaN</td>\n",
              "      <td>7005.930000</td>\n",
              "      <td>303.645417</td>\n",
              "      <td>0.000000</td>\n",
              "      <td>...</td>\n",
              "      <td>NaN</td>\n",
              "      <td>0.230000</td>\n",
              "      <td>20.000000</td>\n",
              "      <td>1.000000</td>\n",
              "      <td>NaN</td>\n",
              "      <td>0.000000</td>\n",
              "      <td>0.000000</td>\n",
              "      <td>NaN</td>\n",
              "      <td>0.007760</td>\n",
              "      <td>NaN</td>\n",
              "    </tr>\n",
              "    <tr>\n",
              "      <th>25%</th>\n",
              "      <td>43132.750000</td>\n",
              "      <td>13664.500000</td>\n",
              "      <td>2.750000</td>\n",
              "      <td>NaN</td>\n",
              "      <td>24.000000</td>\n",
              "      <td>2.451686e+08</td>\n",
              "      <td>NaN</td>\n",
              "      <td>19342.972500</td>\n",
              "      <td>1626.594167</td>\n",
              "      <td>3.000000</td>\n",
              "      <td>...</td>\n",
              "      <td>NaN</td>\n",
              "      <td>566.072500</td>\n",
              "      <td>28.052567</td>\n",
              "      <td>144.000000</td>\n",
              "      <td>NaN</td>\n",
              "      <td>29.268886</td>\n",
              "      <td>27.959111</td>\n",
              "      <td>NaN</td>\n",
              "      <td>267.615983</td>\n",
              "      <td>NaN</td>\n",
              "    </tr>\n",
              "    <tr>\n",
              "      <th>50%</th>\n",
              "      <td>80631.500000</td>\n",
              "      <td>25777.000000</td>\n",
              "      <td>4.500000</td>\n",
              "      <td>NaN</td>\n",
              "      <td>33.000000</td>\n",
              "      <td>5.006886e+08</td>\n",
              "      <td>NaN</td>\n",
              "      <td>36999.705000</td>\n",
              "      <td>3095.905000</td>\n",
              "      <td>5.000000</td>\n",
              "      <td>...</td>\n",
              "      <td>NaN</td>\n",
              "      <td>1166.155000</td>\n",
              "      <td>32.305784</td>\n",
              "      <td>219.000000</td>\n",
              "      <td>NaN</td>\n",
              "      <td>66.462304</td>\n",
              "      <td>45.156550</td>\n",
              "      <td>NaN</td>\n",
              "      <td>333.865366</td>\n",
              "      <td>NaN</td>\n",
              "    </tr>\n",
              "    <tr>\n",
              "      <th>75%</th>\n",
              "      <td>118130.250000</td>\n",
              "      <td>38385.000000</td>\n",
              "      <td>6.250000</td>\n",
              "      <td>NaN</td>\n",
              "      <td>42.000000</td>\n",
              "      <td>7.560027e+08</td>\n",
              "      <td>NaN</td>\n",
              "      <td>71683.470000</td>\n",
              "      <td>5957.715000</td>\n",
              "      <td>7.000000</td>\n",
              "      <td>...</td>\n",
              "      <td>NaN</td>\n",
              "      <td>1945.962500</td>\n",
              "      <td>36.496663</td>\n",
              "      <td>302.000000</td>\n",
              "      <td>NaN</td>\n",
              "      <td>147.392573</td>\n",
              "      <td>71.295797</td>\n",
              "      <td>NaN</td>\n",
              "      <td>463.215683</td>\n",
              "      <td>NaN</td>\n",
              "    </tr>\n",
              "    <tr>\n",
              "      <th>max</th>\n",
              "      <td>155629.000000</td>\n",
              "      <td>50999.000000</td>\n",
              "      <td>8.000000</td>\n",
              "      <td>NaN</td>\n",
              "      <td>56.000000</td>\n",
              "      <td>9.999934e+08</td>\n",
              "      <td>NaN</td>\n",
              "      <td>179987.280000</td>\n",
              "      <td>15204.633333</td>\n",
              "      <td>11.000000</td>\n",
              "      <td>...</td>\n",
              "      <td>NaN</td>\n",
              "      <td>4998.070000</td>\n",
              "      <td>50.000000</td>\n",
              "      <td>404.000000</td>\n",
              "      <td>NaN</td>\n",
              "      <td>1779.103254</td>\n",
              "      <td>434.191089</td>\n",
              "      <td>NaN</td>\n",
              "      <td>1183.930696</td>\n",
              "      <td>NaN</td>\n",
              "    </tr>\n",
              "  </tbody>\n",
              "</table>\n",
              "<p>11 rows × 28 columns</p>\n",
              "</div>\n",
              "      <button class=\"colab-df-convert\" onclick=\"convertToInteractive('df-1838f14b-828e-4c32-81a1-953d428272d6')\"\n",
              "              title=\"Convert this dataframe to an interactive table.\"\n",
              "              style=\"display:none;\">\n",
              "        \n",
              "  <svg xmlns=\"http://www.w3.org/2000/svg\" height=\"24px\"viewBox=\"0 0 24 24\"\n",
              "       width=\"24px\">\n",
              "    <path d=\"M0 0h24v24H0V0z\" fill=\"none\"/>\n",
              "    <path d=\"M18.56 5.44l.94 2.06.94-2.06 2.06-.94-2.06-.94-.94-2.06-.94 2.06-2.06.94zm-11 1L8.5 8.5l.94-2.06 2.06-.94-2.06-.94L8.5 2.5l-.94 2.06-2.06.94zm10 10l.94 2.06.94-2.06 2.06-.94-2.06-.94-.94-2.06-.94 2.06-2.06.94z\"/><path d=\"M17.41 7.96l-1.37-1.37c-.4-.4-.92-.59-1.43-.59-.52 0-1.04.2-1.43.59L10.3 9.45l-7.72 7.72c-.78.78-.78 2.05 0 2.83L4 21.41c.39.39.9.59 1.41.59.51 0 1.02-.2 1.41-.59l7.78-7.78 2.81-2.81c.8-.78.8-2.07 0-2.86zM5.41 20L4 18.59l7.72-7.72 1.47 1.35L5.41 20z\"/>\n",
              "  </svg>\n",
              "      </button>\n",
              "      \n",
              "  <style>\n",
              "    .colab-df-container {\n",
              "      display:flex;\n",
              "      flex-wrap:wrap;\n",
              "      gap: 12px;\n",
              "    }\n",
              "\n",
              "    .colab-df-convert {\n",
              "      background-color: #E8F0FE;\n",
              "      border: none;\n",
              "      border-radius: 50%;\n",
              "      cursor: pointer;\n",
              "      display: none;\n",
              "      fill: #1967D2;\n",
              "      height: 32px;\n",
              "      padding: 0 0 0 0;\n",
              "      width: 32px;\n",
              "    }\n",
              "\n",
              "    .colab-df-convert:hover {\n",
              "      background-color: #E2EBFA;\n",
              "      box-shadow: 0px 1px 2px rgba(60, 64, 67, 0.3), 0px 1px 3px 1px rgba(60, 64, 67, 0.15);\n",
              "      fill: #174EA6;\n",
              "    }\n",
              "\n",
              "    [theme=dark] .colab-df-convert {\n",
              "      background-color: #3B4455;\n",
              "      fill: #D2E3FC;\n",
              "    }\n",
              "\n",
              "    [theme=dark] .colab-df-convert:hover {\n",
              "      background-color: #434B5C;\n",
              "      box-shadow: 0px 1px 3px 1px rgba(0, 0, 0, 0.15);\n",
              "      filter: drop-shadow(0px 1px 2px rgba(0, 0, 0, 0.3));\n",
              "      fill: #FFFFFF;\n",
              "    }\n",
              "  </style>\n",
              "\n",
              "      <script>\n",
              "        const buttonEl =\n",
              "          document.querySelector('#df-1838f14b-828e-4c32-81a1-953d428272d6 button.colab-df-convert');\n",
              "        buttonEl.style.display =\n",
              "          google.colab.kernel.accessAllowed ? 'block' : 'none';\n",
              "\n",
              "        async function convertToInteractive(key) {\n",
              "          const element = document.querySelector('#df-1838f14b-828e-4c32-81a1-953d428272d6');\n",
              "          const dataTable =\n",
              "            await google.colab.kernel.invokeFunction('convertToInteractive',\n",
              "                                                     [key], {});\n",
              "          if (!dataTable) return;\n",
              "\n",
              "          const docLinkHtml = 'Like what you see? Visit the ' +\n",
              "            '<a target=\"_blank\" href=https://colab.research.google.com/notebooks/data_table.ipynb>data table notebook</a>'\n",
              "            + ' to learn more about interactive tables.';\n",
              "          element.innerHTML = '';\n",
              "          dataTable['output_type'] = 'display_data';\n",
              "          await google.colab.output.renderOutput(dataTable, element);\n",
              "          const docLink = document.createElement('div');\n",
              "          docLink.innerHTML = docLinkHtml;\n",
              "          element.appendChild(docLink);\n",
              "        }\n",
              "      </script>\n",
              "    </div>\n",
              "  </div>\n",
              "  "
            ]
          },
          "metadata": {},
          "execution_count": 8
        }
      ],
      "source": [
        "# Data Decription\n",
        "data.describe(include='all')"
      ]
    },
    {
      "cell_type": "code",
      "execution_count": 9,
      "id": "436989b9",
      "metadata": {
        "execution": {
          "iopub.execute_input": "2023-02-01T20:09:46.682200Z",
          "iopub.status.busy": "2023-02-01T20:09:46.681180Z",
          "iopub.status.idle": "2023-02-01T20:09:46.767551Z",
          "shell.execute_reply": "2023-02-01T20:09:46.766204Z"
        },
        "papermill": {
          "duration": 0.102499,
          "end_time": "2023-02-01T20:09:46.769944",
          "exception": false,
          "start_time": "2023-02-01T20:09:46.667445",
          "status": "completed"
        },
        "tags": [],
        "colab": {
          "base_uri": "https://localhost:8080/"
        },
        "id": "436989b9",
        "outputId": "880d6f4e-b906-4e2b-ab1d-f5988ff031a9"
      },
      "outputs": [
        {
          "output_type": "stream",
          "name": "stdout",
          "text": [
            "<class 'pandas.core.frame.DataFrame'>\n",
            "RangeIndex: 100000 entries, 0 to 99999\n",
            "Data columns (total 28 columns):\n",
            " #   Column                    Non-Null Count   Dtype  \n",
            "---  ------                    --------------   -----  \n",
            " 0   ID                        100000 non-null  int64  \n",
            " 1   Customer_ID               100000 non-null  int64  \n",
            " 2   Month                     100000 non-null  int64  \n",
            " 3   Name                      100000 non-null  object \n",
            " 4   Age                       100000 non-null  float64\n",
            " 5   SSN                       100000 non-null  float64\n",
            " 6   Occupation                100000 non-null  object \n",
            " 7   Annual_Income             100000 non-null  float64\n",
            " 8   Monthly_Inhand_Salary     100000 non-null  float64\n",
            " 9   Num_Bank_Accounts         100000 non-null  float64\n",
            " 10  Num_Credit_Card           100000 non-null  float64\n",
            " 11  Interest_Rate             100000 non-null  float64\n",
            " 12  Num_of_Loan               100000 non-null  float64\n",
            " 13  Type_of_Loan              100000 non-null  object \n",
            " 14  Delay_from_due_date       100000 non-null  float64\n",
            " 15  Num_of_Delayed_Payment    100000 non-null  float64\n",
            " 16  Changed_Credit_Limit      100000 non-null  float64\n",
            " 17  Num_Credit_Inquiries      100000 non-null  float64\n",
            " 18  Credit_Mix                100000 non-null  object \n",
            " 19  Outstanding_Debt          100000 non-null  float64\n",
            " 20  Credit_Utilization_Ratio  100000 non-null  float64\n",
            " 21  Credit_History_Age        100000 non-null  float64\n",
            " 22  Payment_of_Min_Amount     100000 non-null  object \n",
            " 23  Total_EMI_per_month       100000 non-null  float64\n",
            " 24  Amount_invested_monthly   100000 non-null  float64\n",
            " 25  Payment_Behaviour         100000 non-null  object \n",
            " 26  Monthly_Balance           100000 non-null  float64\n",
            " 27  Credit_Score              100000 non-null  object \n",
            "dtypes: float64(18), int64(3), object(7)\n",
            "memory usage: 21.4+ MB\n"
          ]
        }
      ],
      "source": [
        "# Data Info\n",
        "data.info()"
      ]
    },
    {
      "cell_type": "code",
      "execution_count": 10,
      "id": "87d4e343",
      "metadata": {
        "execution": {
          "iopub.execute_input": "2023-02-01T20:09:46.797146Z",
          "iopub.status.busy": "2023-02-01T20:09:46.796721Z",
          "iopub.status.idle": "2023-02-01T20:09:46.877004Z",
          "shell.execute_reply": "2023-02-01T20:09:46.875985Z"
        },
        "papermill": {
          "duration": 0.096303,
          "end_time": "2023-02-01T20:09:46.879196",
          "exception": false,
          "start_time": "2023-02-01T20:09:46.782893",
          "status": "completed"
        },
        "tags": [],
        "colab": {
          "base_uri": "https://localhost:8080/"
        },
        "id": "87d4e343",
        "outputId": "66b1cfbd-4442-4eef-e811-7f779014a823"
      },
      "outputs": [
        {
          "output_type": "execute_result",
          "data": {
            "text/plain": [
              "ID                          0\n",
              "Customer_ID                 0\n",
              "Month                       0\n",
              "Name                        0\n",
              "Age                         0\n",
              "SSN                         0\n",
              "Occupation                  0\n",
              "Annual_Income               0\n",
              "Monthly_Inhand_Salary       0\n",
              "Num_Bank_Accounts           0\n",
              "Num_Credit_Card             0\n",
              "Interest_Rate               0\n",
              "Num_of_Loan                 0\n",
              "Type_of_Loan                0\n",
              "Delay_from_due_date         0\n",
              "Num_of_Delayed_Payment      0\n",
              "Changed_Credit_Limit        0\n",
              "Num_Credit_Inquiries        0\n",
              "Credit_Mix                  0\n",
              "Outstanding_Debt            0\n",
              "Credit_Utilization_Ratio    0\n",
              "Credit_History_Age          0\n",
              "Payment_of_Min_Amount       0\n",
              "Total_EMI_per_month         0\n",
              "Amount_invested_monthly     0\n",
              "Payment_Behaviour           0\n",
              "Monthly_Balance             0\n",
              "Credit_Score                0\n",
              "dtype: int64"
            ]
          },
          "metadata": {},
          "execution_count": 10
        }
      ],
      "source": [
        "# Checking for missing values\n",
        "data.isnull().sum()"
      ]
    },
    {
      "cell_type": "markdown",
      "id": "232dae37",
      "metadata": {
        "papermill": {
          "duration": 0.012766,
          "end_time": "2023-02-01T20:09:46.905320",
          "exception": false,
          "start_time": "2023-02-01T20:09:46.892554",
          "status": "completed"
        },
        "tags": [],
        "id": "232dae37"
      },
      "source": [
        "## Data Preprocessing"
      ]
    },
    {
      "cell_type": "code",
      "execution_count": 13,
      "id": "c154f72b",
      "metadata": {
        "execution": {
          "iopub.execute_input": "2023-02-01T20:09:46.934234Z",
          "iopub.status.busy": "2023-02-01T20:09:46.933242Z",
          "iopub.status.idle": "2023-02-01T20:09:49.199313Z",
          "shell.execute_reply": "2023-02-01T20:09:49.197578Z"
        },
        "papermill": {
          "duration": 2.284225,
          "end_time": "2023-02-01T20:09:49.202723",
          "exception": false,
          "start_time": "2023-02-01T20:09:46.918498",
          "status": "completed"
        },
        "tags": [],
        "colab": {
          "base_uri": "https://localhost:8080/",
          "height": 380
        },
        "id": "c154f72b",
        "outputId": "508fb88d-83d9-4f7f-a3a0-aa938e045861"
      },
      "outputs": [
        {
          "output_type": "error",
          "ename": "AttributeError",
          "evalue": "ignored",
          "traceback": [
            "\u001b[0;31m---------------------------------------------------------------------------\u001b[0m",
            "\u001b[0;31mAttributeError\u001b[0m                            Traceback (most recent call last)",
            "\u001b[0;32m<ipython-input-13-a4e8585a356c>\u001b[0m in \u001b[0;36m<module>\u001b[0;34m\u001b[0m\n\u001b[1;32m      1\u001b[0m \u001b[0;31m# cleaning Outstanding Debt\u001b[0m\u001b[0;34m\u001b[0m\u001b[0;34m\u001b[0m\u001b[0m\n\u001b[0;32m----> 2\u001b[0;31m \u001b[0mdata\u001b[0m\u001b[0;34m[\u001b[0m\u001b[0;34m'Outstanding_Debt'\u001b[0m\u001b[0;34m]\u001b[0m\u001b[0;34m=\u001b[0m\u001b[0mdata\u001b[0m\u001b[0;34m[\u001b[0m\u001b[0;34m'Outstanding_Debt'\u001b[0m\u001b[0;34m]\u001b[0m\u001b[0;34m.\u001b[0m\u001b[0mstr\u001b[0m\u001b[0;34m.\u001b[0m\u001b[0mextract\u001b[0m\u001b[0;34m(\u001b[0m\u001b[0;34m'(\\d+)'\u001b[0m\u001b[0;34m)\u001b[0m\u001b[0;34m\u001b[0m\u001b[0;34m\u001b[0m\u001b[0m\n\u001b[0m\u001b[1;32m      3\u001b[0m \u001b[0;31m# cleaning Annual income\u001b[0m\u001b[0;34m\u001b[0m\u001b[0;34m\u001b[0m\u001b[0m\n\u001b[1;32m      4\u001b[0m \u001b[0mdata\u001b[0m\u001b[0;34m[\u001b[0m\u001b[0;34m'Annual_Income'\u001b[0m\u001b[0;34m]\u001b[0m\u001b[0;34m=\u001b[0m\u001b[0mdata\u001b[0m\u001b[0;34m[\u001b[0m\u001b[0;34m'Annual_Income'\u001b[0m\u001b[0;34m]\u001b[0m\u001b[0;34m.\u001b[0m\u001b[0mstr\u001b[0m\u001b[0;34m.\u001b[0m\u001b[0mextract\u001b[0m\u001b[0;34m(\u001b[0m\u001b[0;34m'(\\d+)'\u001b[0m\u001b[0;34m)\u001b[0m\u001b[0;34m\u001b[0m\u001b[0;34m\u001b[0m\u001b[0m\n\u001b[1;32m      5\u001b[0m \u001b[0;31m# cleaning changed credit limit\u001b[0m\u001b[0;34m\u001b[0m\u001b[0;34m\u001b[0m\u001b[0m\n",
            "\u001b[0;32m/usr/local/lib/python3.9/dist-packages/pandas/core/generic.py\u001b[0m in \u001b[0;36m__getattr__\u001b[0;34m(self, name)\u001b[0m\n\u001b[1;32m   5485\u001b[0m         ):\n\u001b[1;32m   5486\u001b[0m             \u001b[0;32mreturn\u001b[0m \u001b[0mself\u001b[0m\u001b[0;34m[\u001b[0m\u001b[0mname\u001b[0m\u001b[0;34m]\u001b[0m\u001b[0;34m\u001b[0m\u001b[0;34m\u001b[0m\u001b[0m\n\u001b[0;32m-> 5487\u001b[0;31m         \u001b[0;32mreturn\u001b[0m \u001b[0mobject\u001b[0m\u001b[0;34m.\u001b[0m\u001b[0m__getattribute__\u001b[0m\u001b[0;34m(\u001b[0m\u001b[0mself\u001b[0m\u001b[0;34m,\u001b[0m \u001b[0mname\u001b[0m\u001b[0;34m)\u001b[0m\u001b[0;34m\u001b[0m\u001b[0;34m\u001b[0m\u001b[0m\n\u001b[0m\u001b[1;32m   5488\u001b[0m \u001b[0;34m\u001b[0m\u001b[0m\n\u001b[1;32m   5489\u001b[0m     \u001b[0;32mdef\u001b[0m \u001b[0m__setattr__\u001b[0m\u001b[0;34m(\u001b[0m\u001b[0mself\u001b[0m\u001b[0;34m,\u001b[0m \u001b[0mname\u001b[0m\u001b[0;34m:\u001b[0m \u001b[0mstr\u001b[0m\u001b[0;34m,\u001b[0m \u001b[0mvalue\u001b[0m\u001b[0;34m)\u001b[0m \u001b[0;34m->\u001b[0m \u001b[0;32mNone\u001b[0m\u001b[0;34m:\u001b[0m\u001b[0;34m\u001b[0m\u001b[0;34m\u001b[0m\u001b[0m\n",
            "\u001b[0;32m/usr/local/lib/python3.9/dist-packages/pandas/core/accessor.py\u001b[0m in \u001b[0;36m__get__\u001b[0;34m(self, obj, cls)\u001b[0m\n\u001b[1;32m    179\u001b[0m             \u001b[0;31m# we're accessing the attribute of the class, i.e., Dataset.geo\u001b[0m\u001b[0;34m\u001b[0m\u001b[0;34m\u001b[0m\u001b[0m\n\u001b[1;32m    180\u001b[0m             \u001b[0;32mreturn\u001b[0m \u001b[0mself\u001b[0m\u001b[0;34m.\u001b[0m\u001b[0m_accessor\u001b[0m\u001b[0;34m\u001b[0m\u001b[0;34m\u001b[0m\u001b[0m\n\u001b[0;32m--> 181\u001b[0;31m         \u001b[0maccessor_obj\u001b[0m \u001b[0;34m=\u001b[0m \u001b[0mself\u001b[0m\u001b[0;34m.\u001b[0m\u001b[0m_accessor\u001b[0m\u001b[0;34m(\u001b[0m\u001b[0mobj\u001b[0m\u001b[0;34m)\u001b[0m\u001b[0;34m\u001b[0m\u001b[0;34m\u001b[0m\u001b[0m\n\u001b[0m\u001b[1;32m    182\u001b[0m         \u001b[0;31m# Replace the property with the accessor object. Inspired by:\u001b[0m\u001b[0;34m\u001b[0m\u001b[0;34m\u001b[0m\u001b[0m\n\u001b[1;32m    183\u001b[0m         \u001b[0;31m# https://www.pydanny.com/cached-property.html\u001b[0m\u001b[0;34m\u001b[0m\u001b[0;34m\u001b[0m\u001b[0m\n",
            "\u001b[0;32m/usr/local/lib/python3.9/dist-packages/pandas/core/strings/accessor.py\u001b[0m in \u001b[0;36m__init__\u001b[0;34m(self, data)\u001b[0m\n\u001b[1;32m    166\u001b[0m         \u001b[0;32mfrom\u001b[0m \u001b[0mpandas\u001b[0m\u001b[0;34m.\u001b[0m\u001b[0mcore\u001b[0m\u001b[0;34m.\u001b[0m\u001b[0marrays\u001b[0m\u001b[0;34m.\u001b[0m\u001b[0mstring_\u001b[0m \u001b[0;32mimport\u001b[0m \u001b[0mStringDtype\u001b[0m\u001b[0;34m\u001b[0m\u001b[0;34m\u001b[0m\u001b[0m\n\u001b[1;32m    167\u001b[0m \u001b[0;34m\u001b[0m\u001b[0m\n\u001b[0;32m--> 168\u001b[0;31m         \u001b[0mself\u001b[0m\u001b[0;34m.\u001b[0m\u001b[0m_inferred_dtype\u001b[0m \u001b[0;34m=\u001b[0m \u001b[0mself\u001b[0m\u001b[0;34m.\u001b[0m\u001b[0m_validate\u001b[0m\u001b[0;34m(\u001b[0m\u001b[0mdata\u001b[0m\u001b[0;34m)\u001b[0m\u001b[0;34m\u001b[0m\u001b[0;34m\u001b[0m\u001b[0m\n\u001b[0m\u001b[1;32m    169\u001b[0m         \u001b[0mself\u001b[0m\u001b[0;34m.\u001b[0m\u001b[0m_is_categorical\u001b[0m \u001b[0;34m=\u001b[0m \u001b[0mis_categorical_dtype\u001b[0m\u001b[0;34m(\u001b[0m\u001b[0mdata\u001b[0m\u001b[0;34m.\u001b[0m\u001b[0mdtype\u001b[0m\u001b[0;34m)\u001b[0m\u001b[0;34m\u001b[0m\u001b[0;34m\u001b[0m\u001b[0m\n\u001b[1;32m    170\u001b[0m         \u001b[0mself\u001b[0m\u001b[0;34m.\u001b[0m\u001b[0m_is_string\u001b[0m \u001b[0;34m=\u001b[0m \u001b[0misinstance\u001b[0m\u001b[0;34m(\u001b[0m\u001b[0mdata\u001b[0m\u001b[0;34m.\u001b[0m\u001b[0mdtype\u001b[0m\u001b[0;34m,\u001b[0m \u001b[0mStringDtype\u001b[0m\u001b[0;34m)\u001b[0m\u001b[0;34m\u001b[0m\u001b[0;34m\u001b[0m\u001b[0m\n",
            "\u001b[0;32m/usr/local/lib/python3.9/dist-packages/pandas/core/strings/accessor.py\u001b[0m in \u001b[0;36m_validate\u001b[0;34m(data)\u001b[0m\n\u001b[1;32m    223\u001b[0m \u001b[0;34m\u001b[0m\u001b[0m\n\u001b[1;32m    224\u001b[0m         \u001b[0;32mif\u001b[0m \u001b[0minferred_dtype\u001b[0m \u001b[0;32mnot\u001b[0m \u001b[0;32min\u001b[0m \u001b[0mallowed_types\u001b[0m\u001b[0;34m:\u001b[0m\u001b[0;34m\u001b[0m\u001b[0;34m\u001b[0m\u001b[0m\n\u001b[0;32m--> 225\u001b[0;31m             \u001b[0;32mraise\u001b[0m \u001b[0mAttributeError\u001b[0m\u001b[0;34m(\u001b[0m\u001b[0;34m\"Can only use .str accessor with string values!\"\u001b[0m\u001b[0;34m)\u001b[0m\u001b[0;34m\u001b[0m\u001b[0;34m\u001b[0m\u001b[0m\n\u001b[0m\u001b[1;32m    226\u001b[0m         \u001b[0;32mreturn\u001b[0m \u001b[0minferred_dtype\u001b[0m\u001b[0;34m\u001b[0m\u001b[0;34m\u001b[0m\u001b[0m\n\u001b[1;32m    227\u001b[0m \u001b[0;34m\u001b[0m\u001b[0m\n",
            "\u001b[0;31mAttributeError\u001b[0m: Can only use .str accessor with string values!"
          ]
        }
      ],
      "source": [
        "# cleaning Outstanding Debt\n",
        "data['Outstanding_Debt']=data['Outstanding_Debt'].str.extract('(\\d+)')\n",
        "# cleaning Annual income\n",
        "data['Annual_Income']=data['Annual_Income'].str.extract('(\\d+)')\n",
        "# cleaning changed credit limit\n",
        "data['Changed_Credit_Limit']=data['Changed_Credit_Limit'].str.extract('(\\d+)')\n",
        "# Cleaning Number of loan\n",
        "data['Num_of_Loan']=data['Num_of_Loan'].str.extract('(\\d+)')\n",
        "# Cleaning Age\n",
        "data['Age']=data['Age'].str.extract('(\\d+)')\n",
        "# Cleaning Amount invested monthly\n",
        "data['Amount_invested_monthly']=(data['Amount_invested_monthly'].astype('str')).str.extract('(\\d+)')\n",
        "# Cleaning Monthly Balance\n",
        "data['Monthly_Balance']=(data['Monthly_Balance'].astype('str')).str.extract('(\\d+)')\n",
        "# Cleaning Number of Delayed Payment \n",
        "data['Num_of_Delayed_Payment']=data['Num_of_Delayed_Payment'].str.extract('(\\d+)')\n",
        "# Filling the None values with the median of Num of Delayed payment through simpleimputer\n",
        "si=SimpleImputer(strategy='median')\n",
        "si=si.fit_transform(data[['Num_of_Delayed_Payment']])\n",
        "data[['Num_of_Delayed_Payment']]=si"
      ]
    },
    {
      "cell_type": "code",
      "execution_count": null,
      "id": "84b4bffb",
      "metadata": {
        "execution": {
          "iopub.execute_input": "2023-02-01T20:09:49.232984Z",
          "iopub.status.busy": "2023-02-01T20:09:49.231847Z",
          "iopub.status.idle": "2023-02-01T20:09:49.238560Z",
          "shell.execute_reply": "2023-02-01T20:09:49.237378Z"
        },
        "papermill": {
          "duration": 0.024161,
          "end_time": "2023-02-01T20:09:49.241099",
          "exception": false,
          "start_time": "2023-02-01T20:09:49.216938",
          "status": "completed"
        },
        "tags": [],
        "id": "84b4bffb"
      },
      "outputs": [],
      "source": [
        "# Credit_History_Age filtering\n",
        "def History_age(age):\n",
        "    try : \n",
        "        years = int(\"\".join(re.findall('[0-9]',''.join(age.split(\"and\")[0]))))\n",
        "        month = int(\"\".join(re.findall('[0-9]',''.join(age.split(\"and\")[1]))))\n",
        "        return years*12 + month\n",
        "    except :\n",
        "        return np.nan"
      ]
    },
    {
      "cell_type": "code",
      "execution_count": null,
      "id": "da14d5e5",
      "metadata": {
        "execution": {
          "iopub.execute_input": "2023-02-01T20:09:49.271751Z",
          "iopub.status.busy": "2023-02-01T20:09:49.271295Z",
          "iopub.status.idle": "2023-02-01T20:09:49.723875Z",
          "shell.execute_reply": "2023-02-01T20:09:49.722639Z"
        },
        "papermill": {
          "duration": 0.4716,
          "end_time": "2023-02-01T20:09:49.726673",
          "exception": false,
          "start_time": "2023-02-01T20:09:49.255073",
          "status": "completed"
        },
        "tags": [],
        "id": "da14d5e5"
      },
      "outputs": [],
      "source": [
        "data['Credit_History_Age'] = data['Credit_History_Age'].apply(History_age)"
      ]
    },
    {
      "cell_type": "code",
      "execution_count": null,
      "id": "3d629dd9",
      "metadata": {
        "execution": {
          "iopub.execute_input": "2023-02-01T20:09:49.755735Z",
          "iopub.status.busy": "2023-02-01T20:09:49.755295Z",
          "iopub.status.idle": "2023-02-01T20:09:49.785485Z",
          "shell.execute_reply": "2023-02-01T20:09:49.784705Z"
        },
        "papermill": {
          "duration": 0.047471,
          "end_time": "2023-02-01T20:09:49.787825",
          "exception": false,
          "start_time": "2023-02-01T20:09:49.740354",
          "status": "completed"
        },
        "tags": [],
        "id": "3d629dd9"
      },
      "outputs": [],
      "source": [
        "# filling empty value with most frequent value\n",
        "si_type_of_loan=SimpleImputer(strategy='most_frequent')\n",
        "si_type_of_loan=si_type_of_loan.fit(data[['Type_of_Loan']])\n",
        "data[['Type_of_Loan']]=si_type_of_loan.transform(data[['Type_of_Loan']])"
      ]
    },
    {
      "cell_type": "code",
      "execution_count": null,
      "id": "0db53c90",
      "metadata": {
        "execution": {
          "iopub.execute_input": "2023-02-01T20:09:49.816446Z",
          "iopub.status.busy": "2023-02-01T20:09:49.815833Z",
          "iopub.status.idle": "2023-02-01T20:09:50.156027Z",
          "shell.execute_reply": "2023-02-01T20:09:50.155047Z"
        },
        "papermill": {
          "duration": 0.357412,
          "end_time": "2023-02-01T20:09:50.158559",
          "exception": false,
          "start_time": "2023-02-01T20:09:49.801147",
          "status": "completed"
        },
        "tags": [],
        "id": "0db53c90"
      },
      "outputs": [],
      "source": [
        "''' 'Monthly_Inhand_Salary', 'Num_Bank_Accounts', 'Num_Credit_Card',\n",
        "     'Interest_Rate', 'Delay_from_due_date', 'Num_Credit_Inquiries',\n",
        "       'Credit_Utilization_Ratio', 'Total_EMI_per_month','Monthly_Balance',\n",
        "       'Amount_invested_monthly','Credit_History_Age','Changed_Credit_Limit '''\n",
        "\n",
        "si=SimpleImputer()\n",
        "si=si.fit(data[['Monthly_Inhand_Salary', 'Num_Bank_Accounts', 'Num_Credit_Card',\n",
        "       'Interest_Rate', 'Delay_from_due_date', 'Num_Credit_Inquiries',\n",
        "       'Credit_Utilization_Ratio', 'Total_EMI_per_month','Monthly_Balance','Amount_invested_monthly','Credit_History_Age','Changed_Credit_Limit']])\n",
        "si=si.transform(data[['Monthly_Inhand_Salary', 'Num_Bank_Accounts', 'Num_Credit_Card',\n",
        "       'Interest_Rate', 'Delay_from_due_date', 'Num_Credit_Inquiries',\n",
        "       'Credit_Utilization_Ratio', 'Total_EMI_per_month','Monthly_Balance','Amount_invested_monthly','Credit_History_Age','Changed_Credit_Limit']])\n",
        "data[['Monthly_Inhand_Salary','Num_Bank_Accounts', 'Num_Credit_Card',\n",
        "       'Interest_Rate','Delay_from_due_date', 'Num_Credit_Inquiries',\n",
        "       'Credit_Utilization_Ratio','Total_EMI_per_month','Monthly_Balance',\n",
        "      'Amount_invested_monthly','Credit_History_Age','Changed_Credit_Limit']]=si"
      ]
    },
    {
      "cell_type": "code",
      "execution_count": null,
      "id": "8aaf4352",
      "metadata": {
        "execution": {
          "iopub.execute_input": "2023-02-01T20:09:50.186923Z",
          "iopub.status.busy": "2023-02-01T20:09:50.186516Z",
          "iopub.status.idle": "2023-02-01T20:09:50.251499Z",
          "shell.execute_reply": "2023-02-01T20:09:50.250594Z"
        },
        "papermill": {
          "duration": 0.081722,
          "end_time": "2023-02-01T20:09:50.253424",
          "exception": false,
          "start_time": "2023-02-01T20:09:50.171702",
          "status": "completed"
        },
        "tags": [],
        "id": "8aaf4352"
      },
      "outputs": [],
      "source": [
        "data.isnull().sum()"
      ]
    },
    {
      "cell_type": "code",
      "execution_count": null,
      "id": "d150742a",
      "metadata": {
        "execution": {
          "iopub.execute_input": "2023-02-01T20:09:50.282860Z",
          "iopub.status.busy": "2023-02-01T20:09:50.281865Z",
          "iopub.status.idle": "2023-02-01T20:09:50.289513Z",
          "shell.execute_reply": "2023-02-01T20:09:50.288348Z"
        },
        "papermill": {
          "duration": 0.025373,
          "end_time": "2023-02-01T20:09:50.292059",
          "exception": false,
          "start_time": "2023-02-01T20:09:50.266686",
          "status": "completed"
        },
        "tags": [],
        "id": "d150742a"
      },
      "outputs": [],
      "source": [
        "# Deleting columns that are not relevant for the model\n",
        "del data['ID']\n",
        "del data['Name']\n",
        "del data['Customer_ID']\n",
        "del data['SSN']\n",
        "del data['Month']"
      ]
    },
    {
      "cell_type": "code",
      "execution_count": null,
      "id": "16993d2e",
      "metadata": {
        "execution": {
          "iopub.execute_input": "2023-02-01T20:09:50.321385Z",
          "iopub.status.busy": "2023-02-01T20:09:50.320679Z",
          "iopub.status.idle": "2023-02-01T20:09:50.372573Z",
          "shell.execute_reply": "2023-02-01T20:09:50.371603Z"
        },
        "papermill": {
          "duration": 0.069227,
          "end_time": "2023-02-01T20:09:50.374943",
          "exception": false,
          "start_time": "2023-02-01T20:09:50.305716",
          "status": "completed"
        },
        "tags": [],
        "id": "16993d2e"
      },
      "outputs": [],
      "source": [
        "data.isnull().sum()"
      ]
    },
    {
      "cell_type": "code",
      "execution_count": null,
      "id": "13b4f14e",
      "metadata": {
        "execution": {
          "iopub.execute_input": "2023-02-01T20:09:50.404211Z",
          "iopub.status.busy": "2023-02-01T20:09:50.403490Z",
          "iopub.status.idle": "2023-02-01T20:09:50.453171Z",
          "shell.execute_reply": "2023-02-01T20:09:50.451585Z"
        },
        "papermill": {
          "duration": 0.066755,
          "end_time": "2023-02-01T20:09:50.455394",
          "exception": false,
          "start_time": "2023-02-01T20:09:50.388639",
          "status": "completed"
        },
        "tags": [],
        "id": "13b4f14e"
      },
      "outputs": [],
      "source": [
        "data.select_dtypes(include='object').head()"
      ]
    },
    {
      "cell_type": "markdown",
      "id": "4bb07231",
      "metadata": {
        "papermill": {
          "duration": 0.013813,
          "end_time": "2023-02-01T20:09:50.483286",
          "exception": false,
          "start_time": "2023-02-01T20:09:50.469473",
          "status": "completed"
        },
        "tags": [],
        "id": "4bb07231"
      },
      "source": [
        "## OCCUPATION"
      ]
    },
    {
      "cell_type": "code",
      "execution_count": null,
      "id": "04d2d73f",
      "metadata": {
        "execution": {
          "iopub.execute_input": "2023-02-01T20:09:50.512942Z",
          "iopub.status.busy": "2023-02-01T20:09:50.512269Z",
          "iopub.status.idle": "2023-02-01T20:09:51.826065Z",
          "shell.execute_reply": "2023-02-01T20:09:51.824534Z"
        },
        "papermill": {
          "duration": 1.331076,
          "end_time": "2023-02-01T20:09:51.828381",
          "exception": false,
          "start_time": "2023-02-01T20:09:50.497305",
          "status": "completed"
        },
        "tags": [],
        "id": "04d2d73f"
      },
      "outputs": [],
      "source": [
        "print(data.select_dtypes(include='object')['Occupation'].value_counts())\n",
        "fig=px.bar(data.select_dtypes(include='object')['Occupation'].value_counts())\n",
        "fig.update_traces(textfont_size=12, textangle=0, textposition=\"outside\", cliponaxis=False)\n",
        "fig.show()"
      ]
    },
    {
      "cell_type": "code",
      "execution_count": null,
      "id": "b80087f5",
      "metadata": {
        "execution": {
          "iopub.execute_input": "2023-02-01T20:09:51.858217Z",
          "iopub.status.busy": "2023-02-01T20:09:51.857799Z",
          "iopub.status.idle": "2023-02-01T20:09:51.867184Z",
          "shell.execute_reply": "2023-02-01T20:09:51.865531Z"
        },
        "papermill": {
          "duration": 0.027522,
          "end_time": "2023-02-01T20:09:51.869899",
          "exception": false,
          "start_time": "2023-02-01T20:09:51.842377",
          "status": "completed"
        },
        "tags": [],
        "id": "b80087f5"
      },
      "outputs": [],
      "source": [
        "#cleaning Occupation\n",
        "data['Occupation'].replace('_______','others',inplace=True)"
      ]
    },
    {
      "cell_type": "code",
      "execution_count": null,
      "id": "7354ea6b",
      "metadata": {
        "execution": {
          "iopub.execute_input": "2023-02-01T20:09:51.900888Z",
          "iopub.status.busy": "2023-02-01T20:09:51.900456Z",
          "iopub.status.idle": "2023-02-01T20:09:51.997886Z",
          "shell.execute_reply": "2023-02-01T20:09:51.996337Z"
        },
        "papermill": {
          "duration": 0.116062,
          "end_time": "2023-02-01T20:09:52.000469",
          "exception": false,
          "start_time": "2023-02-01T20:09:51.884407",
          "status": "completed"
        },
        "tags": [],
        "id": "7354ea6b"
      },
      "outputs": [],
      "source": [
        "# visualization after cleaning\n",
        "print(data.select_dtypes(include='object')['Occupation'].value_counts())\n",
        "fig=px.bar(data.select_dtypes(include='object')['Occupation'].value_counts())\n",
        "fig.show()"
      ]
    },
    {
      "cell_type": "markdown",
      "id": "d5d20aff",
      "metadata": {
        "papermill": {
          "duration": 0.013922,
          "end_time": "2023-02-01T20:09:52.029227",
          "exception": false,
          "start_time": "2023-02-01T20:09:52.015305",
          "status": "completed"
        },
        "tags": [],
        "id": "d5d20aff"
      },
      "source": [
        "## Credit Mix"
      ]
    },
    {
      "cell_type": "code",
      "execution_count": null,
      "id": "4f359ba0",
      "metadata": {
        "execution": {
          "iopub.execute_input": "2023-02-01T20:09:52.058769Z",
          "iopub.status.busy": "2023-02-01T20:09:52.058408Z",
          "iopub.status.idle": "2023-02-01T20:09:52.162308Z",
          "shell.execute_reply": "2023-02-01T20:09:52.161377Z"
        },
        "papermill": {
          "duration": 0.121365,
          "end_time": "2023-02-01T20:09:52.164385",
          "exception": false,
          "start_time": "2023-02-01T20:09:52.043020",
          "status": "completed"
        },
        "tags": [],
        "id": "4f359ba0"
      },
      "outputs": [],
      "source": [
        "print(data.select_dtypes(include='object')['Credit_Mix'].value_counts().sort_values())\n",
        "fig=px.bar(data.select_dtypes(include='object')['Credit_Mix'].value_counts().sort_values())\n",
        "fig.show()"
      ]
    },
    {
      "cell_type": "code",
      "execution_count": null,
      "id": "6b3fd519",
      "metadata": {
        "execution": {
          "iopub.execute_input": "2023-02-01T20:09:52.196411Z",
          "iopub.status.busy": "2023-02-01T20:09:52.195745Z",
          "iopub.status.idle": "2023-02-01T20:09:52.255348Z",
          "shell.execute_reply": "2023-02-01T20:09:52.254021Z"
        },
        "papermill": {
          "duration": 0.078347,
          "end_time": "2023-02-01T20:09:52.257490",
          "exception": false,
          "start_time": "2023-02-01T20:09:52.179143",
          "status": "completed"
        },
        "tags": [],
        "id": "6b3fd519"
      },
      "outputs": [],
      "source": [
        "# Cleaning Credit Mix\n",
        "# Good\n",
        "good=data[['Credit_Mix','Credit_Score']][data['Credit_Score']=='Good']['Credit_Mix'].replace('_','Good')\n",
        "# Standard\n",
        "standard=data[['Credit_Mix','Credit_Score']][data['Credit_Score']=='Standard']['Credit_Mix'].replace('_','Standard')\n",
        "# poor/Bad\n",
        "bad=data[['Credit_Mix','Credit_Score']][data['Credit_Score']=='Poor']['Credit_Mix'].replace('_','Bad')\n",
        "g_s_b=pd.concat([good,standard,bad])\n",
        "g_s_b.sort_index(inplace=True)\n",
        "data['Credit_Mix']=g_s_b"
      ]
    },
    {
      "cell_type": "code",
      "execution_count": null,
      "id": "e4d9574d",
      "metadata": {
        "execution": {
          "iopub.execute_input": "2023-02-01T20:09:52.288973Z",
          "iopub.status.busy": "2023-02-01T20:09:52.288525Z",
          "iopub.status.idle": "2023-02-01T20:09:52.386969Z",
          "shell.execute_reply": "2023-02-01T20:09:52.385332Z"
        },
        "papermill": {
          "duration": 0.117498,
          "end_time": "2023-02-01T20:09:52.389400",
          "exception": false,
          "start_time": "2023-02-01T20:09:52.271902",
          "status": "completed"
        },
        "tags": [],
        "id": "e4d9574d"
      },
      "outputs": [],
      "source": [
        "# Visualizationc After Cleaning Credit Mix\n",
        "print(data.select_dtypes(include='object')['Credit_Mix'].value_counts().sort_values())\n",
        "fig=px.bar(data.select_dtypes(include='object')['Credit_Mix'].value_counts().sort_values())\n",
        "fig.show()"
      ]
    },
    {
      "cell_type": "code",
      "execution_count": null,
      "id": "be1e9443",
      "metadata": {
        "execution": {
          "iopub.execute_input": "2023-02-01T20:09:52.422075Z",
          "iopub.status.busy": "2023-02-01T20:09:52.421666Z",
          "iopub.status.idle": "2023-02-01T20:09:52.496618Z",
          "shell.execute_reply": "2023-02-01T20:09:52.495566Z"
        },
        "papermill": {
          "duration": 0.094111,
          "end_time": "2023-02-01T20:09:52.498747",
          "exception": false,
          "start_time": "2023-02-01T20:09:52.404636",
          "status": "completed"
        },
        "tags": [],
        "id": "be1e9443"
      },
      "outputs": [],
      "source": [
        "print(data['Payment_of_Min_Amount'].value_counts())\n",
        "fig=px.bar(data['Payment_of_Min_Amount'].value_counts())\n",
        "fig.show()"
      ]
    },
    {
      "cell_type": "code",
      "execution_count": null,
      "id": "cf919c3d",
      "metadata": {
        "execution": {
          "iopub.execute_input": "2023-02-01T20:09:52.531651Z",
          "iopub.status.busy": "2023-02-01T20:09:52.530722Z",
          "iopub.status.idle": "2023-02-01T20:09:52.538713Z",
          "shell.execute_reply": "2023-02-01T20:09:52.537878Z"
        },
        "papermill": {
          "duration": 0.027659,
          "end_time": "2023-02-01T20:09:52.541830",
          "exception": false,
          "start_time": "2023-02-01T20:09:52.514171",
          "status": "completed"
        },
        "tags": [],
        "id": "cf919c3d"
      },
      "outputs": [],
      "source": [
        "# Cleaning payment of minimum amount\n",
        "data['Payment_of_Min_Amount'].replace('NM','No',inplace=True)"
      ]
    },
    {
      "cell_type": "code",
      "execution_count": null,
      "id": "95082469",
      "metadata": {
        "execution": {
          "iopub.execute_input": "2023-02-01T20:09:52.574999Z",
          "iopub.status.busy": "2023-02-01T20:09:52.574540Z",
          "iopub.status.idle": "2023-02-01T20:09:52.651472Z",
          "shell.execute_reply": "2023-02-01T20:09:52.649676Z"
        },
        "papermill": {
          "duration": 0.097562,
          "end_time": "2023-02-01T20:09:52.654863",
          "exception": false,
          "start_time": "2023-02-01T20:09:52.557301",
          "status": "completed"
        },
        "tags": [],
        "id": "95082469"
      },
      "outputs": [],
      "source": [
        "# Visualization after cleaning\n",
        "print(data['Payment_of_Min_Amount'].value_counts())\n",
        "fig=px.bar(data['Payment_of_Min_Amount'].value_counts())\n",
        "fig.show()"
      ]
    },
    {
      "cell_type": "code",
      "execution_count": null,
      "id": "13cf5eae",
      "metadata": {
        "execution": {
          "iopub.execute_input": "2023-02-01T20:09:52.688338Z",
          "iopub.status.busy": "2023-02-01T20:09:52.687906Z",
          "iopub.status.idle": "2023-02-01T20:09:52.769778Z",
          "shell.execute_reply": "2023-02-01T20:09:52.768606Z"
        },
        "papermill": {
          "duration": 0.101494,
          "end_time": "2023-02-01T20:09:52.772328",
          "exception": false,
          "start_time": "2023-02-01T20:09:52.670834",
          "status": "completed"
        },
        "tags": [],
        "id": "13cf5eae"
      },
      "outputs": [],
      "source": [
        "print(data['Payment_Behaviour'].value_counts())\n",
        "fig=px.bar(data['Payment_Behaviour'].value_counts())\n",
        "fig.show()"
      ]
    },
    {
      "cell_type": "code",
      "execution_count": null,
      "id": "e0619955",
      "metadata": {
        "execution": {
          "iopub.execute_input": "2023-02-01T20:09:52.807393Z",
          "iopub.status.busy": "2023-02-01T20:09:52.806946Z",
          "iopub.status.idle": "2023-02-01T20:09:52.817979Z",
          "shell.execute_reply": "2023-02-01T20:09:52.815545Z"
        },
        "papermill": {
          "duration": 0.031654,
          "end_time": "2023-02-01T20:09:52.820672",
          "exception": false,
          "start_time": "2023-02-01T20:09:52.789018",
          "status": "completed"
        },
        "tags": [],
        "id": "e0619955"
      },
      "outputs": [],
      "source": [
        "# cleaning payment behaviour \n",
        "data['Payment_Behaviour'].replace('!@9#%8','other',inplace=True)"
      ]
    },
    {
      "cell_type": "code",
      "execution_count": null,
      "id": "1dff161e",
      "metadata": {
        "execution": {
          "iopub.execute_input": "2023-02-01T20:09:52.855523Z",
          "iopub.status.busy": "2023-02-01T20:09:52.855135Z",
          "iopub.status.idle": "2023-02-01T20:09:52.931347Z",
          "shell.execute_reply": "2023-02-01T20:09:52.929784Z"
        },
        "papermill": {
          "duration": 0.096761,
          "end_time": "2023-02-01T20:09:52.934074",
          "exception": false,
          "start_time": "2023-02-01T20:09:52.837313",
          "status": "completed"
        },
        "tags": [],
        "id": "1dff161e"
      },
      "outputs": [],
      "source": [
        "# visualization after cleaning\n",
        "print(data['Payment_Behaviour'].value_counts())\n",
        "fig=px.bar(data['Payment_Behaviour'].value_counts())\n",
        "fig.show()"
      ]
    },
    {
      "cell_type": "code",
      "execution_count": null,
      "id": "a860b28f",
      "metadata": {
        "execution": {
          "iopub.execute_input": "2023-02-01T20:09:52.969337Z",
          "iopub.status.busy": "2023-02-01T20:09:52.967948Z",
          "iopub.status.idle": "2023-02-01T20:09:53.039155Z",
          "shell.execute_reply": "2023-02-01T20:09:53.038014Z"
        },
        "papermill": {
          "duration": 0.090835,
          "end_time": "2023-02-01T20:09:53.041180",
          "exception": false,
          "start_time": "2023-02-01T20:09:52.950345",
          "status": "completed"
        },
        "tags": [],
        "id": "a860b28f"
      },
      "outputs": [],
      "source": [
        "print(data['Credit_Score'].value_counts())\n",
        "fig=px.bar(data['Credit_Score'].value_counts())\n",
        "fig.show()"
      ]
    },
    {
      "cell_type": "code",
      "execution_count": null,
      "id": "0b902204",
      "metadata": {
        "execution": {
          "iopub.execute_input": "2023-02-01T20:09:53.075462Z",
          "iopub.status.busy": "2023-02-01T20:09:53.075101Z",
          "iopub.status.idle": "2023-02-01T20:09:53.178731Z",
          "shell.execute_reply": "2023-02-01T20:09:53.176564Z"
        },
        "papermill": {
          "duration": 0.12422,
          "end_time": "2023-02-01T20:09:53.181438",
          "exception": false,
          "start_time": "2023-02-01T20:09:53.057218",
          "status": "completed"
        },
        "tags": [],
        "id": "0b902204"
      },
      "outputs": [],
      "source": [
        "# Age visualization\n",
        "fig=px.scatter(data['Age'].value_counts())\n",
        "fig.show()"
      ]
    },
    {
      "cell_type": "code",
      "execution_count": null,
      "id": "57e59de6",
      "metadata": {
        "execution": {
          "iopub.execute_input": "2023-02-01T20:09:53.219414Z",
          "iopub.status.busy": "2023-02-01T20:09:53.219056Z",
          "iopub.status.idle": "2023-02-01T20:09:54.884778Z",
          "shell.execute_reply": "2023-02-01T20:09:54.883420Z"
        },
        "papermill": {
          "duration": 1.68786,
          "end_time": "2023-02-01T20:09:54.887260",
          "exception": false,
          "start_time": "2023-02-01T20:09:53.199400",
          "status": "completed"
        },
        "tags": [],
        "id": "57e59de6"
      },
      "outputs": [],
      "source": [
        "# taking care of outliers\n",
        "lo_age=LocalOutlierFactor()\n",
        "lo_age=lo_age.fit(data[['Age']])\n",
        "data['Age']=pd.Series(lo_age.negative_outlier_factor_)"
      ]
    },
    {
      "cell_type": "code",
      "execution_count": null,
      "id": "8b12afc2",
      "metadata": {
        "execution": {
          "iopub.execute_input": "2023-02-01T20:09:54.922283Z",
          "iopub.status.busy": "2023-02-01T20:09:54.921891Z",
          "iopub.status.idle": "2023-02-01T20:09:54.989008Z",
          "shell.execute_reply": "2023-02-01T20:09:54.987123Z"
        },
        "papermill": {
          "duration": 0.088781,
          "end_time": "2023-02-01T20:09:54.991951",
          "exception": false,
          "start_time": "2023-02-01T20:09:54.903170",
          "status": "completed"
        },
        "tags": [],
        "id": "8b12afc2"
      },
      "outputs": [],
      "source": [
        "# visualization after taking care of outlier\n",
        "fig=px.scatter(data['Age'].value_counts())\n",
        "fig.show()"
      ]
    },
    {
      "cell_type": "code",
      "execution_count": null,
      "id": "e21ed148",
      "metadata": {
        "execution": {
          "iopub.execute_input": "2023-02-01T20:09:55.029255Z",
          "iopub.status.busy": "2023-02-01T20:09:55.028855Z",
          "iopub.status.idle": "2023-02-01T20:09:55.087931Z",
          "shell.execute_reply": "2023-02-01T20:09:55.086346Z"
        },
        "papermill": {
          "duration": 0.080988,
          "end_time": "2023-02-01T20:09:55.090865",
          "exception": false,
          "start_time": "2023-02-01T20:09:55.009877",
          "status": "completed"
        },
        "tags": [],
        "id": "e21ed148"
      },
      "outputs": [],
      "source": [
        "# Converting object to float\n",
        "data[['Annual_Income','Num_of_Loan','Changed_Credit_Limit','Outstanding_Debt']]=data[['Annual_Income','Num_of_Loan','Changed_Credit_Limit','Outstanding_Debt']].astype('float64')"
      ]
    },
    {
      "cell_type": "code",
      "execution_count": null,
      "id": "7c5d5af5",
      "metadata": {
        "execution": {
          "iopub.execute_input": "2023-02-01T20:09:55.127854Z",
          "iopub.status.busy": "2023-02-01T20:09:55.126675Z",
          "iopub.status.idle": "2023-02-01T20:09:55.162566Z",
          "shell.execute_reply": "2023-02-01T20:09:55.161402Z"
        },
        "papermill": {
          "duration": 0.057241,
          "end_time": "2023-02-01T20:09:55.165492",
          "exception": false,
          "start_time": "2023-02-01T20:09:55.108251",
          "status": "completed"
        },
        "tags": [],
        "id": "7c5d5af5"
      },
      "outputs": [],
      "source": [
        "data.sample(5)"
      ]
    },
    {
      "cell_type": "code",
      "execution_count": null,
      "id": "a5c0c1ad",
      "metadata": {
        "execution": {
          "iopub.execute_input": "2023-02-01T20:09:55.201630Z",
          "iopub.status.busy": "2023-02-01T20:09:55.201207Z",
          "iopub.status.idle": "2023-02-01T20:09:55.218536Z",
          "shell.execute_reply": "2023-02-01T20:09:55.217203Z"
        },
        "papermill": {
          "duration": 0.039157,
          "end_time": "2023-02-01T20:09:55.221549",
          "exception": false,
          "start_time": "2023-02-01T20:09:55.182392",
          "status": "completed"
        },
        "tags": [],
        "id": "a5c0c1ad"
      },
      "outputs": [],
      "source": [
        "# Cleaning type of loan\n",
        "data['Type_of_Loan']=pd.DataFrame(data['Type_of_Loan'].value_counts().head(9).index[:])"
      ]
    },
    {
      "cell_type": "code",
      "execution_count": null,
      "id": "5afa1fb4",
      "metadata": {
        "execution": {
          "iopub.execute_input": "2023-02-01T20:09:55.258530Z",
          "iopub.status.busy": "2023-02-01T20:09:55.258143Z",
          "iopub.status.idle": "2023-02-01T20:09:55.268313Z",
          "shell.execute_reply": "2023-02-01T20:09:55.266851Z"
        },
        "papermill": {
          "duration": 0.032711,
          "end_time": "2023-02-01T20:09:55.271237",
          "exception": false,
          "start_time": "2023-02-01T20:09:55.238526",
          "status": "completed"
        },
        "tags": [],
        "id": "5afa1fb4"
      },
      "outputs": [],
      "source": [
        "data['Type_of_Loan']"
      ]
    },
    {
      "cell_type": "code",
      "execution_count": null,
      "id": "97e4dab3",
      "metadata": {
        "execution": {
          "iopub.execute_input": "2023-02-01T20:09:55.309489Z",
          "iopub.status.busy": "2023-02-01T20:09:55.309106Z",
          "iopub.status.idle": "2023-02-01T20:09:55.330076Z",
          "shell.execute_reply": "2023-02-01T20:09:55.328867Z"
        },
        "papermill": {
          "duration": 0.041927,
          "end_time": "2023-02-01T20:09:55.332655",
          "exception": false,
          "start_time": "2023-02-01T20:09:55.290728",
          "status": "completed"
        },
        "tags": [],
        "id": "97e4dab3"
      },
      "outputs": [],
      "source": [
        "si=SimpleImputer(strategy='most_frequent')\n",
        "data['Type_of_Loan']=si.fit_transform(data[['Type_of_Loan']])"
      ]
    },
    {
      "cell_type": "code",
      "execution_count": null,
      "id": "af39d586",
      "metadata": {
        "execution": {
          "iopub.execute_input": "2023-02-01T20:09:55.368654Z",
          "iopub.status.busy": "2023-02-01T20:09:55.367629Z",
          "iopub.status.idle": "2023-02-01T20:09:55.380797Z",
          "shell.execute_reply": "2023-02-01T20:09:55.379894Z"
        },
        "papermill": {
          "duration": 0.033707,
          "end_time": "2023-02-01T20:09:55.383154",
          "exception": false,
          "start_time": "2023-02-01T20:09:55.349447",
          "status": "completed"
        },
        "tags": [],
        "id": "af39d586"
      },
      "outputs": [],
      "source": [
        "data['Type_of_Loan'].value_counts()"
      ]
    },
    {
      "cell_type": "markdown",
      "id": "f01bce22",
      "metadata": {
        "papermill": {
          "duration": 0.016643,
          "end_time": "2023-02-01T20:09:55.416994",
          "exception": false,
          "start_time": "2023-02-01T20:09:55.400351",
          "status": "completed"
        },
        "tags": [],
        "id": "f01bce22"
      },
      "source": [
        "## Splitting the data into features and label"
      ]
    },
    {
      "cell_type": "code",
      "execution_count": null,
      "id": "e5d53167",
      "metadata": {
        "execution": {
          "iopub.execute_input": "2023-02-01T20:09:55.452602Z",
          "iopub.status.busy": "2023-02-01T20:09:55.452214Z",
          "iopub.status.idle": "2023-02-01T20:09:55.463363Z",
          "shell.execute_reply": "2023-02-01T20:09:55.462681Z"
        },
        "papermill": {
          "duration": 0.031532,
          "end_time": "2023-02-01T20:09:55.465656",
          "exception": false,
          "start_time": "2023-02-01T20:09:55.434124",
          "status": "completed"
        },
        "tags": [],
        "id": "e5d53167"
      },
      "outputs": [],
      "source": [
        "x,y=data.drop('Credit_Score',axis=1),data['Credit_Score']"
      ]
    },
    {
      "cell_type": "code",
      "execution_count": null,
      "id": "ba9e591b",
      "metadata": {
        "execution": {
          "iopub.execute_input": "2023-02-01T20:09:55.503494Z",
          "iopub.status.busy": "2023-02-01T20:09:55.502344Z",
          "iopub.status.idle": "2023-02-01T20:09:55.523305Z",
          "shell.execute_reply": "2023-02-01T20:09:55.521970Z"
        },
        "papermill": {
          "duration": 0.04224,
          "end_time": "2023-02-01T20:09:55.525336",
          "exception": false,
          "start_time": "2023-02-01T20:09:55.483096",
          "status": "completed"
        },
        "tags": [],
        "id": "ba9e591b"
      },
      "outputs": [],
      "source": [
        "x.select_dtypes(include=['object']).sample(5)"
      ]
    },
    {
      "cell_type": "code",
      "execution_count": null,
      "id": "85961845",
      "metadata": {
        "execution": {
          "iopub.execute_input": "2023-02-01T20:09:55.564231Z",
          "iopub.status.busy": "2023-02-01T20:09:55.562745Z",
          "iopub.status.idle": "2023-02-01T20:09:55.664202Z",
          "shell.execute_reply": "2023-02-01T20:09:55.663094Z"
        },
        "papermill": {
          "duration": 0.122996,
          "end_time": "2023-02-01T20:09:55.666341",
          "exception": false,
          "start_time": "2023-02-01T20:09:55.543345",
          "status": "completed"
        },
        "tags": [],
        "id": "85961845"
      },
      "outputs": [],
      "source": [
        "dummies=pd.get_dummies(x.select_dtypes(include=['object']))\n",
        "dummies"
      ]
    },
    {
      "cell_type": "code",
      "execution_count": null,
      "id": "00c6bfda",
      "metadata": {
        "execution": {
          "iopub.execute_input": "2023-02-01T20:09:55.706339Z",
          "iopub.status.busy": "2023-02-01T20:09:55.705679Z",
          "iopub.status.idle": "2023-02-01T20:09:55.714942Z",
          "shell.execute_reply": "2023-02-01T20:09:55.713207Z"
        },
        "papermill": {
          "duration": 0.033231,
          "end_time": "2023-02-01T20:09:55.718157",
          "exception": false,
          "start_time": "2023-02-01T20:09:55.684926",
          "status": "completed"
        },
        "tags": [],
        "id": "00c6bfda"
      },
      "outputs": [],
      "source": [
        "del x['Occupation']\n",
        "del x['Type_of_Loan'] \n",
        "del x['Credit_Mix']\n",
        "del x['Payment_of_Min_Amount']\n",
        "del x['Payment_Behaviour']"
      ]
    },
    {
      "cell_type": "code",
      "execution_count": null,
      "id": "2a4866a5",
      "metadata": {
        "execution": {
          "iopub.execute_input": "2023-02-01T20:09:55.766977Z",
          "iopub.status.busy": "2023-02-01T20:09:55.766551Z",
          "iopub.status.idle": "2023-02-01T20:09:55.777123Z",
          "shell.execute_reply": "2023-02-01T20:09:55.776127Z"
        },
        "papermill": {
          "duration": 0.038609,
          "end_time": "2023-02-01T20:09:55.779762",
          "exception": false,
          "start_time": "2023-02-01T20:09:55.741153",
          "status": "completed"
        },
        "tags": [],
        "id": "2a4866a5"
      },
      "outputs": [],
      "source": [
        "x=x.join(dummies)"
      ]
    },
    {
      "cell_type": "code",
      "execution_count": null,
      "id": "2398f1bc",
      "metadata": {
        "execution": {
          "iopub.execute_input": "2023-02-01T20:09:55.820829Z",
          "iopub.status.busy": "2023-02-01T20:09:55.820213Z",
          "iopub.status.idle": "2023-02-01T20:09:55.847409Z",
          "shell.execute_reply": "2023-02-01T20:09:55.846252Z"
        },
        "papermill": {
          "duration": 0.048656,
          "end_time": "2023-02-01T20:09:55.849513",
          "exception": false,
          "start_time": "2023-02-01T20:09:55.800857",
          "status": "completed"
        },
        "tags": [],
        "id": "2398f1bc"
      },
      "outputs": [],
      "source": [
        "x.sample(5)"
      ]
    },
    {
      "cell_type": "code",
      "execution_count": null,
      "id": "12464512",
      "metadata": {
        "execution": {
          "iopub.execute_input": "2023-02-01T20:09:55.887473Z",
          "iopub.status.busy": "2023-02-01T20:09:55.886883Z",
          "iopub.status.idle": "2023-02-01T20:09:55.899775Z",
          "shell.execute_reply": "2023-02-01T20:09:55.898091Z"
        },
        "papermill": {
          "duration": 0.035937,
          "end_time": "2023-02-01T20:09:55.903317",
          "exception": false,
          "start_time": "2023-02-01T20:09:55.867380",
          "status": "completed"
        },
        "tags": [],
        "id": "12464512"
      },
      "outputs": [],
      "source": [
        "y=y.map({'Good':0,\n",
        "      'Standard':1,\n",
        "      'Poor':2})"
      ]
    },
    {
      "cell_type": "code",
      "execution_count": null,
      "id": "10d6d536",
      "metadata": {
        "execution": {
          "iopub.execute_input": "2023-02-01T20:09:55.942776Z",
          "iopub.status.busy": "2023-02-01T20:09:55.942407Z",
          "iopub.status.idle": "2023-02-01T20:09:55.951225Z",
          "shell.execute_reply": "2023-02-01T20:09:55.950516Z"
        },
        "papermill": {
          "duration": 0.030225,
          "end_time": "2023-02-01T20:09:55.952753",
          "exception": false,
          "start_time": "2023-02-01T20:09:55.922528",
          "status": "completed"
        },
        "tags": [],
        "id": "10d6d536"
      },
      "outputs": [],
      "source": [
        "y.value_counts()"
      ]
    },
    {
      "cell_type": "code",
      "execution_count": null,
      "id": "ce4420f8",
      "metadata": {
        "execution": {
          "iopub.execute_input": "2023-02-01T20:09:55.990265Z",
          "iopub.status.busy": "2023-02-01T20:09:55.989886Z",
          "iopub.status.idle": "2023-02-01T20:10:07.810377Z",
          "shell.execute_reply": "2023-02-01T20:10:07.808747Z"
        },
        "papermill": {
          "duration": 11.842452,
          "end_time": "2023-02-01T20:10:07.812985",
          "exception": false,
          "start_time": "2023-02-01T20:09:55.970533",
          "status": "completed"
        },
        "tags": [],
        "id": "ce4420f8"
      },
      "outputs": [],
      "source": [
        "smote=SMOTE()\n",
        "x_smote,y_smote=smote.fit_resample(x,y)"
      ]
    },
    {
      "cell_type": "code",
      "execution_count": null,
      "id": "7e42d17d",
      "metadata": {
        "execution": {
          "iopub.execute_input": "2023-02-01T20:10:07.852712Z",
          "iopub.status.busy": "2023-02-01T20:10:07.852344Z",
          "iopub.status.idle": "2023-02-01T20:10:07.862881Z",
          "shell.execute_reply": "2023-02-01T20:10:07.861448Z"
        },
        "papermill": {
          "duration": 0.033069,
          "end_time": "2023-02-01T20:10:07.865253",
          "exception": false,
          "start_time": "2023-02-01T20:10:07.832184",
          "status": "completed"
        },
        "tags": [],
        "id": "7e42d17d"
      },
      "outputs": [],
      "source": [
        "y_smote.value_counts(normalize=True)"
      ]
    },
    {
      "cell_type": "code",
      "execution_count": null,
      "id": "104fc33e",
      "metadata": {
        "execution": {
          "iopub.execute_input": "2023-02-01T20:10:07.902244Z",
          "iopub.status.busy": "2023-02-01T20:10:07.901856Z",
          "iopub.status.idle": "2023-02-01T20:10:07.981550Z",
          "shell.execute_reply": "2023-02-01T20:10:07.980511Z"
        },
        "papermill": {
          "duration": 0.101038,
          "end_time": "2023-02-01T20:10:07.984183",
          "exception": false,
          "start_time": "2023-02-01T20:10:07.883145",
          "status": "completed"
        },
        "tags": [],
        "id": "104fc33e"
      },
      "outputs": [],
      "source": [
        "x_train,x_test,y_train,y_test=train_test_split(x_smote,y_smote,test_size=0.2,random_state=42)"
      ]
    },
    {
      "cell_type": "code",
      "execution_count": null,
      "id": "956dd0b9",
      "metadata": {
        "execution": {
          "iopub.execute_input": "2023-02-01T20:10:08.023208Z",
          "iopub.status.busy": "2023-02-01T20:10:08.022840Z",
          "iopub.status.idle": "2023-02-01T20:10:13.110735Z",
          "shell.execute_reply": "2023-02-01T20:10:13.109155Z"
        },
        "papermill": {
          "duration": 5.110867,
          "end_time": "2023-02-01T20:10:13.113639",
          "exception": false,
          "start_time": "2023-02-01T20:10:08.002772",
          "status": "completed"
        },
        "tags": [],
        "id": "956dd0b9"
      },
      "outputs": [],
      "source": [
        "scalar = PowerTransformer(method='yeo-johnson', standardize=True).fit(x_train)"
      ]
    },
    {
      "cell_type": "code",
      "execution_count": null,
      "id": "a139e853",
      "metadata": {
        "execution": {
          "iopub.execute_input": "2023-02-01T20:10:13.153192Z",
          "iopub.status.busy": "2023-02-01T20:10:13.152754Z",
          "iopub.status.idle": "2023-02-01T20:10:13.159101Z",
          "shell.execute_reply": "2023-02-01T20:10:13.157960Z"
        },
        "papermill": {
          "duration": 0.029202,
          "end_time": "2023-02-01T20:10:13.161885",
          "exception": false,
          "start_time": "2023-02-01T20:10:13.132683",
          "status": "completed"
        },
        "tags": [],
        "id": "a139e853"
      },
      "outputs": [],
      "source": [
        "def credit_function(y_pred,y_test):\n",
        "    accuracy=accuracy_score(y_pred,y_test)\n",
        "    recall=recall_score(y_test,y_pred,average='macro')\n",
        "    precision=precision_score(y_pred,y_test,average='macro')\n",
        "    f1=f1_score(y_pred,y_test,average='macro')\n",
        "    \n",
        "    print(f'Accuracy Score: {accuracy*100:.2f}%')\n",
        "    print(f'Recall Score: {recall*100:.2f}%')\n",
        "    print(f'Precision Score: {precision*100:.2f}%')\n",
        "    print(f'f1 Score Score: {f1*100:.2f}%')    "
      ]
    },
    {
      "cell_type": "code",
      "execution_count": null,
      "id": "9855ced7",
      "metadata": {
        "execution": {
          "iopub.execute_input": "2023-02-01T20:10:13.201007Z",
          "iopub.status.busy": "2023-02-01T20:10:13.200317Z",
          "iopub.status.idle": "2023-02-01T20:20:03.644252Z",
          "shell.execute_reply": "2023-02-01T20:20:03.643143Z"
        },
        "papermill": {
          "duration": 590.466566,
          "end_time": "2023-02-01T20:20:03.646961",
          "exception": false,
          "start_time": "2023-02-01T20:10:13.180395",
          "status": "completed"
        },
        "tags": [],
        "id": "9855ced7"
      },
      "outputs": [],
      "source": [
        "bagging = BaggingClassifier(n_jobs=-1)\n",
        "extraTrees = ExtraTreesClassifier(max_depth=10, n_jobs=-1)\n",
        "randomForest = RandomForestClassifier(n_jobs=-1)\n",
        "histGradientBoosting = HistGradientBoostingClassifier()\n",
        "XGB = XGBClassifier(n_jobs=-1)\n",
        "\n",
        "model = StackingClassifier([\n",
        "    ('bagging', bagging),\n",
        "    ('extraTress', extraTrees),\n",
        "    ('randomforest', randomForest),\n",
        "    ('histGradientBoosting', histGradientBoosting),\n",
        "    ('XGB', XGB)\n",
        "    ], n_jobs=-1)\n",
        "    \n",
        "model=model.fit(x_train, y_train)\n",
        "y_pred=model.predict(x_test)"
      ]
    },
    {
      "cell_type": "code",
      "execution_count": null,
      "id": "7b1030eb",
      "metadata": {
        "execution": {
          "iopub.execute_input": "2023-02-01T20:20:03.700278Z",
          "iopub.status.busy": "2023-02-01T20:20:03.699014Z",
          "iopub.status.idle": "2023-02-01T20:20:03.744770Z",
          "shell.execute_reply": "2023-02-01T20:20:03.743951Z"
        },
        "papermill": {
          "duration": 0.074947,
          "end_time": "2023-02-01T20:20:03.747286",
          "exception": false,
          "start_time": "2023-02-01T20:20:03.672339",
          "status": "completed"
        },
        "tags": [],
        "id": "7b1030eb"
      },
      "outputs": [],
      "source": [
        "credit_function(y_pred,y_test)"
      ]
    },
    {
      "cell_type": "code",
      "execution_count": null,
      "id": "e1c67b2f",
      "metadata": {
        "execution": {
          "iopub.execute_input": "2023-02-01T20:20:03.787649Z",
          "iopub.status.busy": "2023-02-01T20:20:03.787247Z",
          "iopub.status.idle": "2023-02-01T20:20:03.831547Z",
          "shell.execute_reply": "2023-02-01T20:20:03.829898Z"
        },
        "papermill": {
          "duration": 0.066025,
          "end_time": "2023-02-01T20:20:03.834145",
          "exception": false,
          "start_time": "2023-02-01T20:20:03.768120",
          "status": "completed"
        },
        "tags": [],
        "id": "e1c67b2f"
      },
      "outputs": [],
      "source": [
        "print(f'Classification report {classification_report(y_pred,y_test)}')"
      ]
    },
    {
      "cell_type": "markdown",
      "id": "0ef7aff1",
      "metadata": {
        "papermill": {
          "duration": 0.01843,
          "end_time": "2023-02-01T20:20:03.871759",
          "exception": false,
          "start_time": "2023-02-01T20:20:03.853329",
          "status": "completed"
        },
        "tags": [],
        "id": "0ef7aff1"
      },
      "source": [
        "## Save Model"
      ]
    },
    {
      "cell_type": "code",
      "execution_count": null,
      "id": "da5c601c",
      "metadata": {
        "execution": {
          "iopub.execute_input": "2023-02-01T20:20:03.911391Z",
          "iopub.status.busy": "2023-02-01T20:20:03.910997Z",
          "iopub.status.idle": "2023-02-01T20:20:04.229538Z",
          "shell.execute_reply": "2023-02-01T20:20:04.228254Z"
        },
        "papermill": {
          "duration": 0.341266,
          "end_time": "2023-02-01T20:20:04.232279",
          "exception": false,
          "start_time": "2023-02-01T20:20:03.891013",
          "status": "completed"
        },
        "tags": [],
        "id": "da5c601c"
      },
      "outputs": [],
      "source": [
        "pickle.dump(model,open('stackingclassifier.pkl','wb'))"
      ]
    }
  ],
  "metadata": {
    "kernelspec": {
      "display_name": "Python 3",
      "language": "python",
      "name": "python3"
    },
    "language_info": {
      "codemirror_mode": {
        "name": "ipython",
        "version": 3
      },
      "file_extension": ".py",
      "mimetype": "text/x-python",
      "name": "python",
      "nbconvert_exporter": "python",
      "pygments_lexer": "ipython3",
      "version": "3.7.12"
    },
    "papermill": {
      "default_parameters": {},
      "duration": 633.018646,
      "end_time": "2023-02-01T20:20:06.873336",
      "environment_variables": {},
      "exception": null,
      "input_path": "__notebook__.ipynb",
      "output_path": "__notebook__.ipynb",
      "parameters": {},
      "start_time": "2023-02-01T20:09:33.854690",
      "version": "2.3.4"
    },
    "colab": {
      "provenance": [],
      "include_colab_link": true
    }
  },
  "nbformat": 4,
  "nbformat_minor": 5
}